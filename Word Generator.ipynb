{
 "cells": [
  {
   "cell_type": "markdown",
   "metadata": {
    "collapsed": true
   },
   "source": [
    "# Word Generator"
   ]
  },
  {
   "cell_type": "markdown",
   "metadata": {},
   "source": [
    "This program will use Mantas Lukoševičius' ESN to try to generate new words, from an input text. While the main program is explained in the \"Minimal ESN - EN\" notebook, we will here focus on the added parts that will help achieving this task."
   ]
  },
  {
   "cell_type": "code",
   "execution_count": 13,
   "metadata": {},
   "outputs": [],
   "source": [
    "%matplotlib inline\n",
    "import mido\n",
    "import numpy as np\n",
    "import matplotlib.pyplot as plt\n",
    "from scipy import linalg\n",
    "from ipywidgets import *\n",
    "from IPython.display import *"
   ]
  },
  {
   "cell_type": "code",
   "execution_count": 14,
   "metadata": {},
   "outputs": [],
   "source": [
    "mid = mido.MidiFile('samples/bach_846_format0.mid')"
   ]
  },
  {
   "cell_type": "markdown",
   "metadata": {},
   "source": [
    "Ecriture des notes du fichier midi dans un fichier text"
   ]
  },
  {
   "cell_type": "code",
   "execution_count": 15,
   "metadata": {},
   "outputs": [],
   "source": [
    "fichier = open(\"extrait_bach.txt\", \"w\")\n",
    "for msg in mid :\n",
    "    if(msg.type=='note_on'):\n",
    "        fichier.write(str(msg.note)+\"\\n\")\n",
    "fichier.close()"
   ]
  },
  {
   "cell_type": "markdown",
   "metadata": {},
   "source": [
    "Lecture d'un fichier avec juste les notes et mise dans une liste"
   ]
  },
  {
   "cell_type": "code",
   "execution_count": 16,
   "metadata": {},
   "outputs": [
    {
     "name": "stdout",
     "output_type": "stream",
     "text": [
      "667484059\n",
      "Seed used for random values: 667484059\n"
     ]
    }
   ],
   "source": [
    "def set_seed(seed=None):\n",
    "    \"\"\"Making the seed (for random values) variable if None\"\"\"\n",
    "\n",
    "    if seed is None:\n",
    "        import time\n",
    "        seed = int((time.time()*10**6) % 4294967295)\n",
    "        print(seed)\n",
    "    try:\n",
    "        np.random.seed(seed)\n",
    "        print(\"Seed used for random values:\", seed)\n",
    "    except:\n",
    "        print(\"!!! WARNING !!!: Seed was not set correctly.\")\n",
    "    return seed\n",
    "\n",
    "class Network(object):\n",
    "\n",
    "    def __init__(self, trainLen=2000, testLen=2000, initLen=100) :\n",
    "        self.initLen = initLen\n",
    "        self.trainLen = trainLen\n",
    "        self.testLen = testLen\n",
    "        self.file = open(\"extrait_bach.txt\", \"r\")\n",
    "        self.resSize = 300\n",
    "        self.a = 0.3\n",
    "        self.spectral_radius = 1.25\n",
    "        self.input_scaling = 1.\n",
    "        self.reg =  1e-8\n",
    "        self.mode = 'prediction'\n",
    "        seed = None #42\n",
    "        set_seed(seed)\n",
    "        \n",
    "nw = Network()"
   ]
  },
  {
   "cell_type": "markdown",
   "metadata": {},
   "source": [
    "Lecture d'un fichier avec juste les notes et mise dans une liste"
   ]
  },
  {
   "cell_type": "markdown",
   "metadata": {},
   "source": [
    "The next function analyzes a text (e.g., Sir Arthur Conan Doyle's Sherlock Holmes), and returns a list containing all the different characters that are present in the text. You can choose between taking case, punctuation and/or numbers into account."
   ]
  },
  {
   "cell_type": "code",
   "execution_count": 17,
   "metadata": {},
   "outputs": [],
   "source": [
    "def filter_characters(nw, file_name) :\n",
    "    nw.input_text=[]\n",
    "    nw.file = open(file_name, 'r')\n",
    "    for i in nw.file:\n",
    "        nw.input_text.append(i[:2])\n",
    "\n",
    "    return(nw)"
   ]
  },
  {
   "cell_type": "markdown",
   "metadata": {},
   "source": [
    "Let's see what characters are in the chosen input text."
   ]
  },
  {
   "cell_type": "code",
   "execution_count": 18,
   "metadata": {},
   "outputs": [],
   "source": [
    "def characters(nw) :\n",
    "    nw.input_units, nw.output_units = dict(), dict()\n",
    "    for i, item in enumerate(set(nw.input_text)) : nw.input_units[item] = i\n",
    "    for i, item in enumerate(set(nw.input_text)) : nw.output_units[i] = item\n",
    "    #nw.input_units = dict(enumerate(set(nw.input_text)))\n",
    "    print(\"\\nExisting notes in the midi file :\", sorted(nw.input_units),\n",
    "          \"\\nNumber of different notes :\", len(nw.input_units), \"\\n\")\n",
    "    return(nw)"
   ]
  },
  {
   "cell_type": "markdown",
   "metadata": {},
   "source": [
    "We will then convert the text values into numerical values, usable by the algorithm. We will consider the input as a vector $u(t)$, where each line matches a different character, according to <b>nw.chars</b>. Since there only can be one character at a time, we will convert the text from nw.input_text into a nw.data vector, where each element will be a character ID according to its position in nw.chars."
   ]
  },
  {
   "cell_type": "code",
   "execution_count": 19,
   "metadata": {},
   "outputs": [],
   "source": [
    "def convert_input(nw) :\n",
    "    print(\"Converting input into ID numbers...\", end=\" \")\n",
    "    nw.data = np.array([nw.input_units[i] for i in nw.input_text])\n",
    "    print(len(nw.input_units))\n",
    "    print(len(nw.input_text))\n",
    "    nw.inSize = nw.outSize = len(nw.input_units)\n",
    "    print(\"done.\")\n",
    "    return(nw)"
   ]
  },
  {
   "cell_type": "markdown",
   "metadata": {},
   "source": [
    "Now, we can try this on our network. The input $u$ will now be a vector, matching the size of nw.chars. Every time the program \"reads\" a character, we will give the corresponding neuron a value of 1. In any other case, this value will be 0."
   ]
  },
  {
   "cell_type": "code",
   "execution_count": 20,
   "metadata": {},
   "outputs": [],
   "source": [
    "def binary_data(nw) :\n",
    "    print(\"Creating the input binary matrix...\", end=\" \")\n",
    "    nw.data_b = np.zeros((len(nw.input_text), len(nw.input_units)))\n",
    "    print(nw.data.shape)\n",
    "    for i, item in enumerate(nw.data) :\n",
    "        nw.data_b[i][item] = 1\n",
    "    print(\"done.\\n\") \n",
    "    return(nw)"
   ]
  },
  {
   "cell_type": "markdown",
   "metadata": {},
   "source": [
    "Then, we copy the code from the ESN."
   ]
  },
  {
   "cell_type": "code",
   "execution_count": 21,
   "metadata": {},
   "outputs": [],
   "source": [
    "def initialization(nw) :\n",
    "    print(\"\\nInitializing the network matrices...\", end=\" \")\n",
    "    set_seed()\n",
    "    nw.Win = (np.random.rand(nw.resSize,1+nw.inSize)-0.5) * nw.input_scaling\n",
    "    nw.W = np.random.rand(nw.resSize,nw.resSize)-0.5 \n",
    "    nw.X = np.zeros((1+nw.inSize+nw.resSize,nw.trainLen-nw.initLen))\n",
    "    nw.Ytarget = nw.data_b[nw.initLen+1:nw.trainLen+1].T\n",
    "    print(nw.data_b.shape)\n",
    "    print(nw.X.shape)\n",
    "    print(nw.Ytarget.shape)\n",
    "    print(nw.data_b[nw.initLen+1:nw.trainLen+1].T)\n",
    "    nw.x = np.zeros((nw.resSize,1))\n",
    "    print(\"done.\")\n",
    "    return(nw)\n",
    "\n",
    "def compute_spectral_radius(nw):\n",
    "    print('Computing spectral radius...',end=\" \")\n",
    "    rhoW = max(abs(linalg.eig(nw.W)[0]))\n",
    "    print('done.')\n",
    "    nw.W *= nw.spectral_radius / rhoW\n",
    "    return(nw)\n",
    "\n",
    "def train_network(nw) :\n",
    "    print('Training the network...', end=\" \")\n",
    "    percent = 0.1\n",
    "    for t in range(nw.trainLen):\n",
    "        percent = progression(percent, t, nw.trainLen)\n",
    "        nw.u = nw.data_b[t%len(nw.data)]\n",
    "        nw.x = (1-nw.a)*nw.x + nw.a*np.tanh( np.dot(nw.Win, np.concatenate((np.array([1]),nw.u)).reshape(len(nw.input_units)+1,1) ) + np.dot( nw.W, nw.x ) )\n",
    "        if t >= nw.initLen :\n",
    "            nw.X[:,t-nw.initLen] = np.concatenate((np.array([1]),nw.u,nw.x[:,0])).reshape(len(nw.input_units)+nw.resSize+1,1)[:,0]      \n",
    "    print('done.')\n",
    "    return(nw)\n",
    "\n",
    "def train_output(nw) :\n",
    "    print('Training the output...', end=\" \")\n",
    "    nw.X_T = nw.X.T\n",
    "    print(nw.Ytarget.shape)\n",
    "    print(nw.X_T.shape)\n",
    "    print(nw.X.shape)\n",
    "    print(nw.data.shape)\n",
    "    print(nw.data)\n",
    "    print(nw.data_b.shape)\n",
    "    print(nw.data_b)\n",
    "    if nw.reg is not None:\n",
    "        nw.Wout = np.dot(np.dot(nw.Ytarget,nw.X_T), linalg.inv(np.dot(nw.X,nw.X_T) + nw.reg*np.eye(1+nw.inSize+nw.resSize) ) )\n",
    "    else:\n",
    "        nw.Wout = np.dot(nw.Ytarget, linalg.pinv(nw.X) )   \n",
    "    print('done.')\n",
    "    return(nw)\n",
    "\n",
    "def test(nw) :\n",
    "    print('Testing the network... (', nw.mode, ' mode)', sep=\"\", end=\" \")\n",
    "    nw.Y = np.zeros((nw.outSize,nw.testLen))\n",
    "    nw.u = nw.data_b[nw.trainLen%len(nw.data)]\n",
    "    percent = 0.1\n",
    "    for t in range(nw.testLen):\n",
    "        percent = progression(percent, t, nw.trainLen)\n",
    "        nw.x = (1-nw.a)*nw.x + nw.a*np.tanh( np.dot(nw.Win, np.concatenate((np.array([1]),nw.u)).reshape(len(nw.input_units)+1,1)\\\n",
    "                                                   ) + np.dot(nw.W,nw.x ) )\n",
    "        nw.y = np.dot(nw.Wout, np.concatenate((np.array([1]),nw.u,nw.x[:,0])).reshape(len(nw.input_units)+nw.resSize+1,1)[:,0] )\n",
    "        nw.Y[:,t] = nw.y\n",
    "        if nw.mode == 'generative':\n",
    "            # generative mode:\n",
    "            nw.u = nw.y\n",
    "        elif nw.mode == 'prediction':\n",
    "            ## predictive mode:\n",
    "            nw.u = np.zeros(len(nw.input_units))\n",
    "            nw.u[nw.data[(nw.trainLen+t+1)%len(nw.data)]] = 1\n",
    "        else:\n",
    "            raise(Exception, \"ERROR: 'mode' was not set correctly.\")\n",
    "    print('done.\\n')\n",
    "    return(nw)\n",
    "\n",
    "def compute_error(nw) :\n",
    "    print(\"Computing the error...\", end=\" \")\n",
    "    errorLen = 5\n",
    "    mse = sum( np.square( nw.data[(nw.trainLen+1)%len(nw.data):(nw.trainLen+errorLen+1)%len(nw.data)] - nw.Y[0,0:errorLen] ) ) / errorLen\n",
    "    print('MSE = ' + str( mse ))\n",
    "    return(nw)"
   ]
  },
  {
   "cell_type": "markdown",
   "metadata": {},
   "source": [
    "When the output is ready, it's only characters IDs. The next function will \"translate\" those ID into the corresponding characters."
   ]
  },
  {
   "cell_type": "code",
   "execution_count": 24,
   "metadata": {},
   "outputs": [],
   "source": [
    "def convert_output(nw) :\n",
    "    nw.output_text = \"\"\n",
    "    nw.output_values = []\n",
    "    print(\"Converting the output...\", end=\" \")\n",
    "    for i in range(len(nw.Y.T)) :\n",
    "        value = nw.output_units[nw.Y.T[i].argmax()]\n",
    "        nw.output_text += value + \" \"\n",
    "        if(value != ''):\n",
    "            nw.output_values.append(int(value))\n",
    "    print(\"done.\")\n",
    "    return(nw.output_text)\n",
    "    \n",
    "def progression(percent, i, total) :\n",
    "    if i == 0 :\n",
    "        print(\"Progress :\", end= \" \")\n",
    "        percent = 0.1\n",
    "    elif (i/total) > percent :\n",
    "        print(round(percent*100), end=\"\")\n",
    "        print(\"%\", end=\" \")\n",
    "        percent += 0.1\n",
    "    if total-i == 1 :\n",
    "        print(\"100%\")\n",
    "    return(percent)\n",
    "\n",
    "def compute_network(nw, file_name) :\n",
    "    nw = filter_characters(nw, file_name)\n",
    "    nw = characters(nw)\n",
    "    nw = convert_input(nw)\n",
    "    nw = binary_data(nw)\n",
    "    nw = initialization(nw)\n",
    "    nw = compute_spectral_radius(nw)\n",
    "    nw = train_network(nw)\n",
    "    nw = train_output(nw)\n",
    "    nw = test(nw) \n",
    "    nw = compute_error(nw)\n",
    "    nw = convert_output(nw)\n",
    "    return(nw)"
   ]
  },
  {
   "cell_type": "markdown",
   "metadata": {},
   "source": [
    "## Configure network"
   ]
  },
  {
   "cell_type": "markdown",
   "metadata": {},
   "source": [
    "Let's configure the network's variables you want to use."
   ]
  },
  {
   "cell_type": "code",
   "execution_count": 48,
   "metadata": {
    "scrolled": false
   },
   "outputs": [
    {
     "data": {
      "application/vnd.jupyter.widget-view+json": {
       "model_id": "0a1059b2d3eb4aa8b315d528e29bc25c",
       "version_major": 2,
       "version_minor": 0
      },
      "text/plain": [
       "ToggleButtons(description='Mode:', options=('prediction', 'generative'), value='prediction')"
      ]
     },
     "metadata": {},
     "output_type": "display_data"
    },
    {
     "data": {
      "application/vnd.jupyter.widget-view+json": {
       "model_id": "257a211777034214ba647f9ca764b551",
       "version_major": 2,
       "version_minor": 0
      },
      "text/plain": [
       "Dropdown(description='Fichier Midi:', index=1, options={'House of the rising sun': 1, 'Bach': 2}, value=2)"
      ]
     },
     "metadata": {},
     "output_type": "display_data"
    },
    {
     "data": {
      "application/vnd.jupyter.widget-view+json": {
       "model_id": "b813cdd3f96a4351acddd49d65b8fb60",
       "version_major": 2,
       "version_minor": 0
      },
      "text/plain": [
       "FloatSlider(value=300.0, description='resSize', max=5000.0, step=1.0)"
      ]
     },
     "metadata": {},
     "output_type": "display_data"
    },
    {
     "data": {
      "application/vnd.jupyter.widget-view+json": {
       "model_id": "8ff3893eab22422f87844158a029ae3d",
       "version_major": 2,
       "version_minor": 0
      },
      "text/plain": [
       "FloatText(value=20.0, description='initLen')"
      ]
     },
     "metadata": {},
     "output_type": "display_data"
    },
    {
     "data": {
      "application/vnd.jupyter.widget-view+json": {
       "model_id": "2b4ae36b86a34d04bee34289918b1729",
       "version_major": 2,
       "version_minor": 0
      },
      "text/plain": [
       "FloatText(value=1000.0, description='trainLen')"
      ]
     },
     "metadata": {},
     "output_type": "display_data"
    },
    {
     "data": {
      "application/vnd.jupyter.widget-view+json": {
       "model_id": "406162639f9c4ca199c1df0e4b7d8440",
       "version_major": 2,
       "version_minor": 0
      },
      "text/plain": [
       "FloatText(value=1000.0, description='testLen')"
      ]
     },
     "metadata": {},
     "output_type": "display_data"
    },
    {
     "data": {
      "application/vnd.jupyter.widget-view+json": {
       "model_id": "42ea1229f983422895cd763e82453197",
       "version_major": 2,
       "version_minor": 0
      },
      "text/plain": [
       "FloatSlider(value=1.25, description='spectral radius', max=10.0, step=0.05)"
      ]
     },
     "metadata": {},
     "output_type": "display_data"
    },
    {
     "data": {
      "application/vnd.jupyter.widget-view+json": {
       "model_id": "fd0f052a45bf40079696247146829d17",
       "version_major": 2,
       "version_minor": 0
      },
      "text/plain": [
       "FloatSlider(value=0.3, description='leak rate', max=1.0, step=0.01)"
      ]
     },
     "metadata": {},
     "output_type": "display_data"
    },
    {
     "data": {
      "application/vnd.jupyter.widget-view+json": {
       "model_id": "d52c714d929844d7b5e42675e29f0856",
       "version_major": 2,
       "version_minor": 0
      },
      "text/plain": [
       "Button(description='Validate', style=ButtonStyle())"
      ]
     },
     "metadata": {},
     "output_type": "display_data"
    },
    {
     "name": "stdout",
     "output_type": "stream",
     "text": [
      "### NOTES NETWORK ###\n",
      "InitLen: 20 TrainLen: 1000 TestLen: 1000\n",
      "ResSize: 300 Spectral Radius: 1.25 Leak Rate: 0.3\n",
      "\n",
      "Existing notes in the midi file : ['36', '40', '41', '42', '43', '44', '45', '46', '47', '48', '49', '50', '51', '52', '53', '54', '55', '56', '57', '58', '59', '60', '61', '62', '63', '64', '65', '66', '67', '68', '69', '70', '71', '72', '73', '74', '76', '77', '78', '79', '81', '82', '83', '84'] \n",
      "Number of different notes : 44 \n",
      "\n",
      "Converting input into ID numbers... 44\n",
      "1284\n",
      "done.\n",
      "Creating the input binary matrix... (1284,)\n",
      "done.\n",
      "\n",
      "\n",
      "Initializing the network matrices... 1292384356\n",
      "Seed used for random values: 1292384356\n",
      "(1284, 44)\n",
      "(345, 980)\n",
      "(44, 980)\n",
      "[[0. 0. 0. ... 0. 0. 0.]\n",
      " [0. 0. 0. ... 0. 0. 0.]\n",
      " [0. 0. 0. ... 0. 0. 1.]\n",
      " ...\n",
      " [0. 0. 0. ... 0. 0. 0.]\n",
      " [0. 0. 0. ... 0. 0. 0.]\n",
      " [0. 0. 0. ... 0. 0. 0.]]\n",
      "done.\n",
      "Computing spectral radius... done.\n",
      "Training the network... Progress : 10% 20% 30% 40% 50% 60% 70% 80% 90% 100%\n",
      "done.\n",
      "Training the output... (44, 980)\n",
      "(980, 345)\n",
      "(345, 980)\n",
      "(1284,)\n",
      "[33  4 31 ... 21 36  5]\n",
      "(1284, 44)\n",
      "[[0. 0. 0. ... 0. 0. 0.]\n",
      " [0. 0. 0. ... 0. 0. 0.]\n",
      " [0. 0. 0. ... 0. 0. 0.]\n",
      " ...\n",
      " [0. 0. 0. ... 0. 0. 0.]\n",
      " [0. 0. 0. ... 0. 0. 0.]\n",
      " [0. 0. 0. ... 0. 0. 0.]]\n",
      "done.\n",
      "Testing the network... (generative mode) Progress : 10% 20% 30% 40% 50% 60% 70% 80% 90% 100%\n",
      "done.\n",
      "\n",
      "Computing the error... MSE = 1123.1559193853157\n",
      "Converting the output... done.\n",
      "### SPEEDS NETWORK ###\n",
      "InitLen: 20 TrainLen: 1000 TestLen: 1000\n",
      "ResSize: 300 Spectral Radius: 1.25 Leak Rate: 0.3\n",
      "\n",
      "Existing notes in the midi file : ['10', '11', '12', '13', '14', '15', '16', '18', '19', '20', '21', '22', '23', '24', '25', '26', '27', '28', '29', '30', '34', '35', '36', '37', '38', '39', '40', '42', '44', '45', '46', '47', '48', '49', '51', '52', '54', '55', '56', '57', '58', '59', '60', '61', '64', '65', '67', '68', '69', '70', '71', '72', '73', '77', '78', '79', '80', '81', '82', '83', '84', '85', '86', '87', '88', '89', '90', '91', '93', '94', '95', '96', '97', '98', '99'] \n",
      "Number of different notes : 75 \n",
      "\n",
      "Converting input into ID numbers... 75\n",
      "1284\n",
      "done.\n",
      "Creating the input binary matrix... (1284,)\n",
      "done.\n",
      "\n",
      "\n",
      "Initializing the network matrices... 1292669193\n",
      "Seed used for random values: 1292669193\n",
      "(1284, 75)\n",
      "(376, 980)\n",
      "(75, 980)\n",
      "[[0. 0. 0. ... 0. 0. 0.]\n",
      " [0. 0. 0. ... 1. 0. 0.]\n",
      " [0. 0. 0. ... 0. 0. 0.]\n",
      " ...\n",
      " [0. 0. 0. ... 0. 0. 0.]\n",
      " [0. 0. 0. ... 0. 0. 0.]\n",
      " [0. 0. 0. ... 0. 0. 0.]]\n",
      "done.\n",
      "Computing spectral radius... done.\n",
      "Training the network... Progress : 10% 20% 30% 40% 50% 60% 70% 80% 90% 100%\n",
      "done.\n",
      "Training the output... (75, 980)\n",
      "(980, 376)\n",
      "(376, 980)\n",
      "(1284,)\n",
      "[64 48 37 ...  9  9  9]\n",
      "(1284, 75)\n",
      "[[0. 0. 0. ... 0. 0. 0.]\n",
      " [0. 0. 0. ... 0. 0. 0.]\n",
      " [0. 0. 0. ... 0. 0. 0.]\n",
      " ...\n",
      " [0. 0. 0. ... 0. 0. 0.]\n",
      " [0. 0. 0. ... 0. 0. 0.]\n",
      " [0. 0. 0. ... 0. 0. 0.]]\n",
      "done.\n",
      "Testing the network... (generative mode) Progress : 10% 20% 30% 40% 50% 60% 70% 80% 90% 100%\n",
      "done.\n",
      "\n",
      "Computing the error... MSE = 717.3584888338708\n",
      "Converting the output... done.\n",
      "Notes predicted : \n",
      "[57, 67, 55, 60, 74, 74, 52, 52, 59, 60, 64, 64, 64, 67, 79, 65, 65, 65, 59, 64, 64, 67, 67, 59, 59, 59, 59, 59, 59, 59, 64, 59, 59, 59, 64, 64, 64, 64, 64, 64, 64, 60, 60, 60, 60, 60, 57, 64, 64, 52, 79, 55, 67, 74, 74, 71, 60, 62, 62, 62, 64, 64, 64, 64, 60, 55, 55, 60, 60, 60, 60, 71, 71, 71, 55, 55, 57, 79, 79, 79, 65, 76, 55, 55, 55, 59, 59, 57, 59, 64, 64, 64, 64, 64, 67, 67, 67, 59, 59, 59, 59, 64, 64, 60, 60, 60, 60, 60, 60, 60, 60, 60, 60, 60, 60, 60, 60, 60, 60, 60, 60, 60, 60, 60, 60, 62, 62, 67, 67, 67, 74, 74, 74, 59, 62, 64, 64, 64, 64, 57, 64, 64, 74, 74, 60, 60, 60, 55, 64, 64, 64, 64, 64, 64, 64, 60, 60, 55, 55, 55, 55, 55, 59, 60, 64, 60, 60, 57, 76, 57, 59, 59, 59, 52, 55, 55, 55, 60, 60, 60, 62, 64, 57, 64, 67, 67, 74, 74, 74, 57, 57, 57, 64, 74, 79, 77, 57, 62, 74, 74, 74, 74, 74, 74, 74, 74, 57, 64, 67, 74, 74, 74, 76, 57, 57, 64, 74, 52, 79, 55, 60, 55, 60, 60, 60, 60, 60, 57, 57, 62, 67, 74, 74, 59, 59, 64, 55, 60, 60, 55, 64, 64, 64, 64, 62, 59, 59, 74, 59, 55, 60, 59, 60, 64, 60, 60, 60, 60, 60, 64, 64, 64, 64, 64, 60, 60, 60, 60, 60, 60, 60, 60, 60, 60, 60, 60, 60, 60, 60, 60, 60, 60, 60, 60, 60, 60, 60, 60, 60, 60, 60, 60, 60, 55, 55, 55, 60, 60, 60, 60, 60, 62, 64, 64, 67, 59, 59, 74, 71, 57, 57, 64, 64, 59, 59, 64, 64, 64, 74, 60, 57, 57, 55, 55, 64, 64, 64, 79, 59, 59, 59, 59, 55, 55, 55, 60, 60, 60, 60, 60, 72, 62, 59, 59, 59, 59, 79, 64, 74, 76, 76, 76, 66, 55, 55, 52, 55, 55, 74, 55, 60, 57, 62, 62, 74, 74, 59, 59, 57, 57, 57, 64, 64, 64, 64, 74, 74, 67, 74, 74, 57, 57, 57, 57, 55, 55, 60, 60, 60, 60, 55, 55, 55, 62, 62, 62, 62, 64, 74, 71, 57, 59, 64, 60, 60, 60, 62, 62, 74, 74, 59, 57, 57, 59, 59, 59, 59, 59, 64, 64, 64, 64, 79, 79, 67, 67, 74, 74, 74, 71, 62, 62, 62, 62, 62, 62, 62, 62, 57, 59, 59, 59, 59, 64, 64, 64, 64, 64, 64, 64, 64, 64, 64, 55, 55, 55, 55, 59, 59, 59, 59, 64, 67, 79, 59, 59, 59, 67, 64, 64, 64, 64, 64, 64, 64, 79, 59, 59, 74, 74, 57, 57, 74, 74, 74, 74, 62, 62, 55, 66, 65, 71, 71, 71, 60, 57, 64, 64, 64, 64, 64, 64, 60, 60, 60, 55, 55, 55, 55, 55, 60, 64, 60, 79, 60, 60, 60, 74, 55, 55, 62, 62, 55, 60, 60, 60, 62, 64, 64, 74, 59, 59, 59, 59, 59, 64, 64, 59, 60, 60, 60, 55, 60, 60, 60, 60, 60, 60, 60, 60, 60, 60, 60, 60, 60, 60, 62, 57, 64, 64, 64, 64, 74, 59, 59, 59, 59, 59, 59, 59, 64, 64, 64, 60, 60, 60, 60, 60, 60, 60, 60, 60, 60, 60, 60, 60, 60, 60, 55, 55, 55, 55, 55, 55, 55, 55, 55, 74, 71, 71, 76, 76, 63, 59, 59, 59, 76, 76, 64, 64, 64, 60, 60, 64, 64, 64, 79, 59, 71, 55, 55, 55, 62, 60, 57, 57, 57, 74, 74, 59, 59, 59, 59, 59, 59, 64, 64, 64, 64, 64, 60, 60, 60, 60, 60, 60, 60, 64, 64, 64, 60, 60, 60, 60, 60, 60, 60, 55, 55, 55, 55, 55, 55, 55, 55, 55, 55, 55, 55, 55, 60, 60, 60, 60, 60, 55, 64, 57, 64, 64, 60, 60, 60, 60, 60, 62, 62, 55, 60, 60, 62, 62, 62, 62, 55, 55, 55, 71, 62, 62, 62, 62, 74, 59, 59, 59, 64, 64, 64, 64, 64, 79, 65, 76, 55, 55, 55, 55, 60, 64, 64, 64, 59, 76, 76, 59, 59, 59, 64, 64, 64, 59, 79, 64, 60, 60, 55, 60, 60, 60, 60, 60, 60, 55, 55, 55, 55, 60, 60, 60, 60, 57, 59, 60, 60, 67, 67, 67, 57, 57, 55, 55, 60, 60, 60, 60, 57, 62, 67, 67, 67, 62, 62, 59, 59, 64, 64, 59, 59, 59, 60, 64, 64, 64, 64, 60, 60, 60, 64, 64, 62, 55, 55, 55, 60, 60, 64, 57, 57, 57, 64, 64, 59, 59, 59, 59, 64, 64, 64, 64, 64, 67, 67, 74, 60, 60, 60, 55, 64, 64, 64, 60, 60, 60, 62, 62, 59, 60, 59, 59, 59, 64, 64, 64, 67, 67, 67, 67, 55, 55, 55, 55, 55, 60, 71, 60, 71, 57, 57, 64, 64, 64, 57, 60, 60, 60, 60, 55, 55, 64, 60, 60, 57, 62, 64, 67, 67, 67, 52, 59, 55, 59, 59, 79, 65, 65, 65, 59, 59, 59, 64, 64, 59, 59, 59, 76, 64, 60, 60, 60, 55, 55, 55, 60, 60, 71, 71, 71, 71, 71, 57, 67, 67, 67, 67, 59, 59, 64, 64, 64, 64, 60, 60, 60, 60, 55, 55, 55, 79, 79, 57, 81, 62, 62, 62, 62, 64, 59, 59, 57, 60, 64, 64, 64, 64, 64, 60, 60, 55, 55, 62, 62, 62, 62, 67, 67, 74, 59, 59, 59, 64, 64, 64, 59, 59, 64, 67, 67, 74, 74, 67, 67, 67, 67, 74, 57, 64, 67, 67, 74, 59, 59, 57, 55, 55, 60, 60, 55, 60, 64, 57, 57, 57, 57, 74, 74, 59, 59, 59, 59, 64, 64, 64, 60, 60, 60, 60, 60, 60, 60]\n",
      "Speeds predicted : \n",
      "[10, 79, 21, 10, 10, 23, 23, 79, 86, 11, 98, 11, 11, 11, 12, 54, 21, 21, 35, 35, 35, 35, 98, 98, 98, 98, 98, 54, 54, 35, 35, 35, 35, 35, 54, 54, 54, 54, 54, 54, 54, 54, 54, 35, 35, 35, 54, 54, 54, 54, 54, 54, 54, 54, 54, 54, 54, 54, 54, 54, 54, 54, 54, 54, 54, 54, 54, 54, 54, 54, 54, 54, 54, 54, 54, 54, 54, 54, 54, 54, 54, 54, 54, 54, 54, 54, 54, 54, 54, 54, 54, 54, 54, 54, 54, 54, 54, 54, 54, 54, 54, 54, 54, 54, 54, 54, 54, 54, 54, 54, 54, 54, 54, 54, 54, 54, 54, 54, 54, 54, 54, 54, 54, 54, 54, 54, 54, 54, 54, 54, 54, 54, 54, 54, 54, 54, 54, 54, 54, 54, 54, 54, 54, 54, 54, 54, 54, 54, 54, 54, 54, 54, 54, 54, 54, 54, 54, 54, 54, 54, 54, 54, 54, 54, 54, 54, 54, 54, 54, 54, 54, 54, 54, 54, 54, 54, 54, 54, 54, 54, 54, 54, 54, 54, 54, 54, 54, 54, 54, 54, 54, 54, 54, 54, 54, 54, 54, 54, 54, 54, 54, 54, 54, 54, 54, 54, 54, 54, 54, 54, 54, 54, 54, 54, 54, 54, 54, 54, 54, 54, 54, 54, 54, 54, 54, 54, 54, 54, 54, 54, 54, 54, 54, 54, 54, 54, 54, 54, 54, 54, 54, 54, 54, 54, 54, 54, 54, 54, 54, 54, 54, 54, 54, 54, 54, 54, 54, 54, 54, 54, 54, 54, 54, 54, 54, 54, 54, 54, 54, 54, 54, 54, 54, 54, 54, 54, 54, 54, 54, 54, 54, 54, 54, 54, 54, 54, 54, 54, 54, 54, 54, 54, 54, 54, 54, 54, 54, 54, 54, 54, 54, 54, 54, 54, 54, 54, 54, 54, 54, 54, 54, 54, 54, 54, 54, 54, 54, 54, 54, 54, 54, 54, 54, 54, 54, 54, 54, 54, 54, 54, 54, 54, 54, 54, 54, 54, 54, 54, 54, 54, 54, 54, 54, 54, 54, 54, 54, 54, 54, 54, 54, 54, 54, 54, 54, 54, 54, 54, 54, 54, 54, 54, 54, 54, 54, 54, 54, 54, 54, 54, 54, 54, 54, 54, 54, 54, 54, 54, 54, 54, 54, 54, 54, 54, 54, 54, 54, 54, 54, 54, 54, 54, 54, 54, 54, 54, 54, 54, 54, 54, 54, 54, 54, 54, 54, 54, 54, 54, 54, 54, 54, 54, 54, 54, 54, 54, 54, 54, 54, 54, 54, 54, 54, 54, 54, 54, 54, 54, 54, 54, 54, 54, 54, 54, 54, 54, 54, 54, 54, 54, 54, 54, 54, 54, 54, 54, 54, 54, 54, 54, 54, 54, 54, 54, 54, 54, 54, 54, 54, 54, 54, 54, 54, 54, 54, 54, 54, 54, 54, 54, 54, 54, 54, 54, 54, 54, 54, 54, 54, 54, 54, 54, 54, 54, 54, 54, 54, 54, 54, 54, 54, 54, 54, 54, 54, 54, 54, 54, 54, 54, 54, 54, 54, 54, 54, 54, 54, 54, 54, 54, 54, 54, 54, 54, 54, 54, 54, 54, 54, 54, 54, 54, 54, 54, 54, 54, 54, 54, 54, 54, 54, 54, 54, 54, 54, 54, 54, 54, 54, 54, 54, 54, 54, 54, 54, 54, 54, 54, 54, 54, 54, 54, 54, 54, 54, 54, 54, 54, 54, 54, 54, 54, 54, 54, 54, 54, 54, 54, 54, 54, 54, 54, 54, 54, 54, 54, 54, 54, 54, 54, 54, 54, 54, 54, 54, 54, 54, 54, 54, 54, 54, 54, 54, 54, 54, 54, 54, 54, 54, 54, 54, 54, 54, 54, 54, 54, 54, 54, 54, 54, 54, 54, 54, 54, 54, 54, 54, 54, 54, 54, 54, 54, 54, 54, 54, 54, 54, 54, 54, 54, 54, 54, 54, 54, 54, 54, 54, 54, 54, 54, 54, 54, 54, 54, 54, 54, 54, 54, 54, 54, 54, 54, 54, 54, 54, 54, 54, 54, 54, 54, 54, 54, 54, 54, 54, 54, 54, 54, 54, 54, 54, 54, 54, 54, 54, 54, 54, 54, 54, 54, 54, 54, 54, 54, 54, 54, 54, 54, 54, 54, 54, 54, 54, 54, 54, 54, 54, 54, 54, 54, 54, 54, 54, 54, 54, 54, 54, 54, 54, 54, 54, 54, 54, 54, 54, 54, 54, 54, 54, 54, 54, 54, 54, 54, 54, 54, 54, 54, 54, 54, 54, 54, 54, 54, 54, 54, 54, 54, 54, 54, 54, 54, 54, 54, 54, 54, 54, 54, 54, 54, 54, 54, 54, 54, 54, 54, 54, 54, 54, 54, 54, 54, 54, 54, 54, 54, 54, 54, 54, 54, 54, 54, 54, 54, 54, 54, 54, 54, 54, 54, 54, 54, 54, 54, 54, 54, 54, 54, 54, 54, 54, 54, 54, 54, 54, 54, 54, 54, 54, 54, 54, 54, 54, 54, 54, 54, 54, 54, 54, 54, 54, 54, 54, 54, 54, 54, 54, 54, 54, 54, 54, 54, 54, 54, 54, 54, 54, 54, 54, 54, 54, 54, 54, 54, 54, 54, 54, 54, 54, 54, 54, 54, 54, 54, 54, 54, 54, 54, 54, 54, 54, 54, 54, 54, 54, 54, 54, 54, 54, 54, 54, 54, 54, 54, 54, 54, 54, 54, 54, 54, 54, 54, 54, 54, 54, 54, 54, 54, 54, 54, 54, 54, 54, 54, 54, 54, 54, 54, 54, 54, 54, 54, 54, 54, 54, 54, 54, 54, 54, 54, 54, 54, 54, 54, 54, 54, 54, 54, 54, 54, 54, 54, 54, 54, 54, 54, 54, 54, 54, 54, 54, 54, 54, 54, 54, 54, 54, 54, 54, 54, 54, 54, 54, 54, 54, 54, 54, 54, 54, 54, 54, 54, 54, 54, 54, 54, 54, 54, 54, 54, 54, 54, 54, 54, 54, 54, 54, 54, 54, 54, 54, 54, 54, 54, 54, 54, 54, 54, 54, 54, 54, 54, 54, 54, 54, 54, 54, 54, 54, 54, 54, 54, 54, 54, 54, 54, 54, 54, 54, 54, 54, 54, 54, 54, 54, 54, 54, 54, 54, 54]\n"
     ]
    }
   ],
   "source": [
    "select_mode = ToggleButtons(description='Mode:', options=['prediction', 'generative'])\n",
    "text = Dropdown(description='Fichier Midi:', options={\"House of the rising sun\" : 1, \"Bach\" : 2}, value = 2)\n",
    "var4 = FloatSlider(value=300, min=0, max=5000, step=1, description='resSize')\n",
    "var5 = FloatText(value=20, description='initLen')\n",
    "var6 = FloatText(value=1000, description='trainLen')\n",
    "var7 = FloatText(value=1000, description='testLen')\n",
    "var8 = FloatSlider(value=1.25, min=0, max=10, step=0.05, description='spectral radius')\n",
    "var9 = FloatSlider(value=0.3, min=0, max=1, step=0.01, description='leak rate')\n",
    "valid = Button(description='Validate')\n",
    "\n",
    "NOTES_FILE_NAME = \"notes.txt\"\n",
    "SPEEDS_FILE_NAME = \"speeds.txt\"\n",
    "    \n",
    "notes_values = []\n",
    "speeds_values = []\n",
    "\n",
    "def midi_to_txt(name):    \n",
    "    mid = mido.MidiFile(\"samples/\" + name)\n",
    "    \n",
    "    notes = []\n",
    "    sumTime = 0\n",
    "\n",
    "    for msg in mid:\n",
    "        sumTime += msg.time\n",
    "\n",
    "        if(msg.type == \"note_off\" or (msg.type == \"note_on\" and msg.velocity == 0)):\n",
    "            j = len(notes) - 1\n",
    "            while(j >= 0):\n",
    "                note, time = notes[j]\n",
    "                if(note == msg.note):\n",
    "                    notes[j] = (note, sumTime - time)\n",
    "                    break\n",
    "                j -= 1\n",
    "\n",
    "        elif(msg.type == \"note_on\"):\n",
    "            notes.append((msg.note, sumTime))\n",
    "    \n",
    "    notes_array = []\n",
    "    speed_array = []\n",
    "    for note, speed in notes:\n",
    "        notes_array.append(note)\n",
    "        speed_array.append(speed)\n",
    "        \n",
    "        \n",
    "    notes_file = open(NOTES_FILE_NAME, \"w\")\n",
    "    speeds_file = open(SPEEDS_FILE_NAME, \"w\")\n",
    "    for note, speed in notes:\n",
    "        notes_file.write(str(note)+\"\\n\")\n",
    "        speeds_file.write(str(speed*500)+\"\\n\")\n",
    "    \n",
    "    notes_file.close()\n",
    "    speeds_file.close()\n",
    "    \n",
    "    return NOTES_FILE_NAME, SPEEDS_FILE_NAME\n",
    "    \n",
    "    \n",
    "def record_values(_):\n",
    "    global notes_values\n",
    "    global speeds_values\n",
    "    \n",
    "    file = text.value\n",
    "    midis = [\"house_of_the_rising_sunasax_as.mid\", \"bach_846_format0.mid\"]\n",
    "    notes_file_name, speeds_file_name = midi_to_txt(midis[file-1])\n",
    "    \n",
    "    #Notes network\n",
    "    print(\"### NOTES NETWORK ###\")\n",
    "    #clear_output()\n",
    "    nw.mode=select_mode.value\n",
    "    nw.resSize=int(var4.value)\n",
    "    nw.initLen=int(var5.value)\n",
    "    nw.trainLen=int(var6.value)\n",
    "    nw.testLen=int(var7.value)\n",
    "    nw.spectral_radius=float(var8.value)\n",
    "    nw.a=float(var9.value)\n",
    "    \n",
    "    print(\"InitLen:\", nw.initLen, \"TrainLen:\", nw.trainLen, \"TestLen:\", nw.testLen) \n",
    "    print(\"ResSize:\", nw.resSize, \"Spectral Radius:\", nw.spectral_radius, \"Leak Rate:\", nw.a)\n",
    "        \n",
    "    compute_network(nw, notes_file_name)\n",
    "    notes_values = nw.output_values\n",
    "    \n",
    "    #Speeds network\n",
    "    print(\"### SPEEDS NETWORK ###\")\n",
    "    #clear_output()\n",
    "    nw.mode=select_mode.value\n",
    "    nw.resSize=int(var4.value)\n",
    "    nw.initLen=int(var5.value)\n",
    "    nw.trainLen=int(var6.value)\n",
    "    nw.testLen=int(var7.value)\n",
    "    nw.spectral_radius=float(var8.value)\n",
    "    nw.a=float(var9.value)\n",
    "    \n",
    "    print(\"InitLen:\", nw.initLen, \"TrainLen:\", nw.trainLen, \"TestLen:\", nw.testLen) \n",
    "    print(\"ResSize:\", nw.resSize, \"Spectral Radius:\", nw.spectral_radius, \"Leak Rate:\", nw.a)\n",
    "        \n",
    "    compute_network(nw, speeds_file_name)\n",
    "    speeds_values = nw.output_values\n",
    "    \n",
    "    print(\"Notes predicted : \")\n",
    "    print(notes_values)\n",
    "    print(\"Speeds predicted : \")\n",
    "    print(speeds_values)\n",
    "    \n",
    "\n",
    "display(select_mode)\n",
    "display(text)\n",
    "display(var4)\n",
    "display(var5)\n",
    "display(var6)\n",
    "display(var7)\n",
    "display(var8)\n",
    "display(var9)\n",
    "display(valid)\n",
    "\n",
    "valid.on_click(record_values)"
   ]
  },
  {
   "cell_type": "markdown",
   "metadata": {},
   "source": [
    "The next graph shows the characters repartition throughout the first characters of the text. The x-axis represents the first n characters of the text (which you can change), and the y-axis represents every different character in the text (generally ~70, counting upper case, lower case, numbers and punctuation symbols).."
   ]
  },
  {
   "cell_type": "code",
   "execution_count": 29,
   "metadata": {},
   "outputs": [
    {
     "data": {
      "image/png": "[encoded data removed]",
      "text/plain": [
       "<Figure size 432x288 with 1 Axes>"
      ]
     },
     "metadata": {
      "needs_background": "light"
     },
     "output_type": "display_data"
    }
   ],
   "source": [
    "var10 = FloatText(value=len(nw.input_units), description='Number of chars')\n",
    "#La value de var10 ne peut pas dépasser le nombre de notes présentes dans le fichier midi  \n",
    "valid2 = Button(description='Validate')\n",
    "        \n",
    "def trace_graph1(_) :\n",
    "    clear_output()\n",
    "    plt.figure(1).clear()\n",
    "    limit = np.arange(int(var10.value))\n",
    "    plt.plot(limit,nw.data[0:int(var10.value)], 'ro')\n",
    "    plt.title('Characters throughout the text')\n",
    "    \n",
    "valid2.on_click(trace_graph1)\n",
    "    \n",
    "display(var10)\n",
    "display(valid2)"
   ]
  },
  {
   "cell_type": "markdown",
   "metadata": {},
   "source": [
    "Finally, let's see the ouput text the program generates !"
   ]
  },
  {
   "cell_type": "code",
   "execution_count": 30,
   "metadata": {},
   "outputs": [
    {
     "data": {
      "application/vnd.jupyter.widget-view+json": {
       "model_id": "e88493c89ae540968cb57a6635fff8c2",
       "version_major": 2,
       "version_minor": 0
      },
      "text/plain": [
       "Button(description='Show the output!', style=ButtonStyle())"
      ]
     },
     "metadata": {},
     "output_type": "display_data"
    },
    {
     "name": "stdout",
     "output_type": "stream",
     "text": [
      "55626464645555555555555564646455666464646464644855555555555562646464646464646464646467676464606062626262626262626262626262626262626262626060626260626262626262626262606055605548555555535555555558585858646464745959595964645967676767676772725353537272535367675353676753536464646464647464646767676464646464646464646464626262626262626262626262626262626262626262626262626262626276767659656565656262626262626262626262626262626262626262625757626262646466646464676769696060606060606060605555555555555555595355555553535353535360606457575757575760606067676772727272726767676767676767676767676767676767676767677474555566645555655565656565626262626262626262626262626767676767676767676262555565656562646464647464646460645964646464626262626262626262626262626262626262626262626262626262626464646464626262626262626262626262525252656564646565656565646764646464646464626264646462626060596260606060606062626060606060606060606060605550505050505050506060606060606060605555555555555555555555555555556060557464646464646464626262645757524848764857576262626060606062626055555562555555555555555555656565656652526452526464647676766457576262626262626262626252626064646464646464626262626262626262627257606060606255555762626255626262626262626262726064646464647657577676557665655555654859656565656265626265626262626262595957625757575757656555556565656565525265656565626262626262626262625555555555555555555555555555665366606062606262626060555560747474656555656565557648656565767662626055554864646548626955554869556974646943766566656260626262626257626262626262626262626262626259626257555953535355646666555555555553675555555555555564676767676767676767596767676753536755677467535355747453507666666262666666666643434343646262766776676762626262626262666657576464646464646460767676767662626255766562626267645959575757576259596262626259595967676262626264646476767676555560606060606464646464606076767676646465656565656262626262626762626757575959595959606060606060606060606060606055555555626262646464606460646457646457646262626257626262626262\n"
     ]
    }
   ],
   "source": [
    "valid3 = Button(description='Show the output!')\n",
    "\n",
    "def show_output(_) :\n",
    "    print(nw.output_text)\n",
    "\n",
    "display(valid3)\n",
    "valid3.on_click(show_output)"
   ]
  },
  {
   "cell_type": "code",
   "execution_count": 50,
   "metadata": {},
   "outputs": [],
   "source": [
    "from mido import Message, MidiFile, MidiTrack\n",
    "\n",
    "mid = MidiFile()\n",
    "track = MidiTrack()\n",
    "mid.tracks.append(track)\n",
    "\n",
    "for i in range(len(notes_values)):\n",
    "    #print(\"note : \" + str(notes_values[i]) + \" speed : \" + str(speeds_values[i]))\n",
    "    track.append(Message('note_on', note=notes_values[i], time=0))\n",
    "    track.append(Message('note_off', note=notes_values[i], time=speeds_values[i]*7))\n",
    "\n",
    "mid.save('new_song.mid')"
   ]
  },
  {
   "cell_type": "code",
   "execution_count": null,
   "metadata": {},
   "outputs": [],
   "source": []
  }
 ],
 "metadata": {
  "anaconda-cloud": {},
  "kernelspec": {
   "display_name": "Python 3",
   "language": "python",
   "name": "python3"
  },
  "language_info": {
   "codemirror_mode": {
    "name": "ipython",
    "version": 3
   },
   "file_extension": ".py",
   "mimetype": "text/x-python",
   "name": "python",
   "nbconvert_exporter": "python",
   "pygments_lexer": "ipython3",
   "version": "3.7.0"
  },
  "widgets": {
   "state": {
    "0ea51c9a05684957ac7f780c650d07e9": {
     "views": [
      {
       "cell_index": 17
      }
     ]
    },
    "16f6b2e73bef48adba31033aee697b92": {
     "views": [
      {
       "cell_index": 17
      }
     ]
    },
    "19f94908ee5b4d66aeb0b2321ee60652": {
     "views": [
      {
       "cell_index": 21
      }
     ]
    },
    "1cee34a4f52a443cb8cf00c41ed2fe61": {
     "views": [
      {
       "cell_index": 17
      }
     ]
    },
    "240726984cad4432a5758e2015d9497c": {
     "views": [
      {
       "cell_index": 19
      }
     ]
    },
    "72d0158cdf274e9d8ebcb3ced4e76bb8": {
     "views": [
      {
       "cell_index": 17
      }
     ]
    },
    "761a81f2ad56428d80ee079bb6bcf13b": {
     "views": [
      {
       "cell_index": 17
      }
     ]
    },
    "955d7d67993341e680ca5bece5476594": {
     "views": [
      {
       "cell_index": 17
      }
     ]
    },
    "bee880b8ee1e4c8995a3695f750dc110": {
     "views": [
      {
       "cell_index": 17
      }
     ]
    },
    "ca5e51e7c20947788b29d473c7667ee7": {
     "views": [
      {
       "cell_index": 17
      }
     ]
    },
    "db3de75861a746a1a4ff54cbbcec2032": {
     "views": [
      {
       "cell_index": 17
      }
     ]
    },
    "e28405f3723544f89fb2df38e93570d4": {
     "views": [
      {
       "cell_index": 17
      }
     ]
    },
    "e461378265f94837b632b09a19fb687e": {
     "views": [
      {
       "cell_index": 19
      }
     ]
    },
    "ebfe9300e4b149a09e788c48d8b7b3ac": {
     "views": [
      {
       "cell_index": 17
      }
     ]
    },
    "eee484961585441c9a7796e2c230758d": {
     "views": [
      {
       "cell_index": 17
      }
     ]
    }
   },
   "version": "1.2.0"
  }
 },
 "nbformat": 4,
 "nbformat_minor": 1
}