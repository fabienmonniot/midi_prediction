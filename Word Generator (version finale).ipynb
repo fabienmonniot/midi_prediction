{
 "cells": [
  {
   "cell_type": "markdown",
   "metadata": {
    "collapsed": true
   },
   "source": [
    "# (MIDI) Prédiction et génération de fichier midi"
   ]
  },
  {
   "cell_type": "markdown",
   "metadata": {},
   "source": [
    "Ce programme s'appuie sur les travaux de Mantas Lukoševičius pour proposer une génération de fichier MIDI depuis une base de morceaux."
   ]
  },
  {
   "cell_type": "markdown",
   "metadata": {},
   "source": [
    "Pour commencer, on importe les bibliothèques nécessaires au fonctionnement du programme."
   ]
  },
  {
   "cell_type": "code",
   "execution_count": 2,
   "metadata": {},
   "outputs": [],
   "source": [
    "%matplotlib inline\n",
    "import mido\n",
    "import numpy as np\n",
    "import matplotlib.pyplot as plt\n",
    "from scipy import linalg\n",
    "from ipywidgets import *\n",
    "from IPython.display import *"
   ]
  },
  {
   "cell_type": "markdown",
   "metadata": {},
   "source": [
    "On définit les caractéristiques d'un réseau de neurones convolutifs."
   ]
  },
  {
   "cell_type": "code",
   "execution_count": 6,
   "metadata": {},
   "outputs": [
    {
     "name": "stdout",
     "output_type": "stream",
     "text": [
      "898790591\n",
      "Seed used for random values: 898790591\n"
     ]
    }
   ],
   "source": [
    "class Network(object):\n",
    "\n",
    "    def __init__(self, trainLen=2000, testLen=2000, initLen=100) :\n",
    "        self.initLen = initLen\n",
    "        self.trainLen = trainLen\n",
    "        self.testLen = testLen\n",
    "        self.file = open(\"extrait_bach.txt\", \"r\")\n",
    "        self.resSize = 300\n",
    "        self.a = 0.3\n",
    "        self.spectral_radius = 1.25\n",
    "        self.input_scaling = 1.\n",
    "        self.reg =  1e-8\n",
    "        self.mode = 'prediction'\n",
    "        self.seed = None #42\n",
    "        self.set_seed()\n",
    "        \n",
    "    def set_seed(self):\n",
    "        \"\"\"Making the seed (for random values) variable if None\"\"\"\n",
    "\n",
    "        if self.seed is None:\n",
    "            import time\n",
    "            self.seed = int((time.time()*10**6) % 4294967295)\n",
    "            print(self.seed)\n",
    "        try:\n",
    "            np.random.seed(self.seed)\n",
    "            print(\"Seed used for random values:\", self.seed)\n",
    "        except:\n",
    "            print(\"!!! WARNING !!!: Seed was not set correctly.\")\n",
    "        \n",
    "nw = Network()"
   ]
  },
  {
   "cell_type": "markdown",
   "metadata": {},
   "source": [
    "On lit un fichier avec juste les notes et on les met dans une liste."
   ]
  },
  {
   "cell_type": "code",
   "execution_count": 7,
   "metadata": {},
   "outputs": [],
   "source": [
    "def filter_characters(nw, file_name) :\n",
    "    nw.input_text=[]\n",
    "    nw.file = open(file_name, 'r')\n",
    "    for i in nw.file:\n",
    "        nw.input_text.append(i[:2])\n",
    "\n",
    "    return(nw)"
   ]
  },
  {
   "cell_type": "markdown",
   "metadata": {},
   "source": [
    "On affiche les notes présentes dans le fichier original."
   ]
  },
  {
   "cell_type": "code",
   "execution_count": 8,
   "metadata": {},
   "outputs": [],
   "source": [
    "def characters(nw) :\n",
    "    nw.input_units, nw.output_units = dict(), dict()\n",
    "    for i, item in enumerate(set(nw.input_text)) : nw.input_units[item] = i\n",
    "    for i, item in enumerate(set(nw.input_text)) : nw.output_units[i] = item\n",
    "    #nw.input_units = dict(enumerate(set(nw.input_text)))\n",
    "    print(\"\\nExisting notes in the midi file :\", sorted(nw.input_units),\n",
    "          \"\\nNumber of different notes :\", len(nw.input_units), \"\\n\")\n",
    "    return(nw)"
   ]
  },
  {
   "cell_type": "markdown",
   "metadata": {},
   "source": [
    "On convertit les notes qui sont sous forme de caractères en nombres utilisables par l'algorithme. Nous allons considérer l'entrée comme un vecteur $u(t)$, où chaque ligne correspond à une note différente, en suivant le vecteur <b>nw.chars</b>. Comme il ne peut y avoir qu'une note à la fois, nous allons convertir le texte de nw.input_text dans le nw.data vecteur, où chaque élément  sera un ID de note lié à sa position dans nw.chars."
   ]
  },
  {
   "cell_type": "code",
   "execution_count": 9,
   "metadata": {},
   "outputs": [],
   "source": [
    "def convert_input(nw) :\n",
    "    print(\"Converting input into ID numbers...\", end=\" \")\n",
    "    nw.data = np.array([nw.input_units[i] for i in nw.input_text])\n",
    "    print(len(nw.input_units))\n",
    "    print(len(nw.input_text))\n",
    "    nw.inSize = nw.outSize = len(nw.input_units)\n",
    "    print(\"done.\")\n",
    "    return(nw)"
   ]
  },
  {
   "cell_type": "markdown",
   "metadata": {},
   "source": [
    "Maintenant on peut essayer sur le réseau. L'entrée $u$ sera maintenant un vecteur, qui correspondra avec la taille de nw.chars. Chaque fois que le programme \"lit\" une note, nous donnons au neurone correspondant une valeur de 1. Dans les autres cas, cette valeur vaudra 0."
   ]
  },
  {
   "cell_type": "code",
   "execution_count": 10,
   "metadata": {},
   "outputs": [],
   "source": [
    "def binary_data(nw) :\n",
    "    print(\"Creating the input binary matrix...\", end=\" \")\n",
    "    nw.data_b = np.zeros((len(nw.input_text), len(nw.input_units)))\n",
    "    print(nw.data.shape)\n",
    "    for i, item in enumerate(nw.data) :\n",
    "        nw.data_b[i][item] = 1\n",
    "    print(\"done.\\n\") \n",
    "    return(nw)"
   ]
  },
  {
   "cell_type": "markdown",
   "metadata": {},
   "source": [
    "Ensuite, nous copions le code depuis l'ESN."
   ]
  },
  {
   "cell_type": "code",
   "execution_count": 14,
   "metadata": {},
   "outputs": [],
   "source": [
    "def initialization(nw) :\n",
    "    print(\"\\nInitializing the network matrices...\", end=\" \")\n",
    "    nw.set_seed()\n",
    "    nw.Win = (np.random.rand(nw.resSize,1+nw.inSize)-0.5) * nw.input_scaling\n",
    "    nw.W = np.random.rand(nw.resSize,nw.resSize)-0.5 \n",
    "    nw.X = np.zeros((1+nw.inSize+nw.resSize,nw.trainLen-nw.initLen))\n",
    "    nw.Ytarget = nw.data_b[nw.initLen+1:nw.trainLen+1].T\n",
    "    print(nw.data_b.shape)\n",
    "    print(nw.X.shape)\n",
    "    print(nw.Ytarget.shape)\n",
    "    print(nw.data_b[nw.initLen+1:nw.trainLen+1].T)\n",
    "    nw.x = np.zeros((nw.resSize,1))\n",
    "    print(\"done.\")\n",
    "    return(nw)\n",
    "\n",
    "def compute_spectral_radius(nw):\n",
    "    print('Computing spectral radius...',end=\" \")\n",
    "    rhoW = max(abs(linalg.eig(nw.W)[0]))\n",
    "    print('done.')\n",
    "    nw.W *= nw.spectral_radius / rhoW\n",
    "    return(nw)\n",
    "\n",
    "def train_network(nw) :\n",
    "    print('Training the network...', end=\" \")\n",
    "    percent = 0.1\n",
    "    for t in range(nw.trainLen):\n",
    "        percent = progression(percent, t, nw.trainLen)\n",
    "        nw.u = nw.data_b[t%len(nw.data)]\n",
    "        nw.x = (1-nw.a)*nw.x + nw.a*np.tanh( np.dot(nw.Win, np.concatenate((np.array([1]),nw.u)).reshape(len(nw.input_units)+1,1) ) + np.dot( nw.W, nw.x ) )\n",
    "        if t >= nw.initLen :\n",
    "            nw.X[:,t-nw.initLen] = np.concatenate((np.array([1]),nw.u,nw.x[:,0])).reshape(len(nw.input_units)+nw.resSize+1,1)[:,0]      \n",
    "    print('done.')\n",
    "    return(nw)\n",
    "\n",
    "def train_output(nw) :\n",
    "    print('Training the output...', end=\" \")\n",
    "    nw.X_T = nw.X.T\n",
    "    print(nw.Ytarget.shape)\n",
    "    print(nw.X_T.shape)\n",
    "    print(nw.X.shape)\n",
    "    print(nw.data.shape)\n",
    "    print(nw.data)\n",
    "    print(nw.data_b.shape)\n",
    "    print(nw.data_b)\n",
    "    if nw.reg is not None:\n",
    "        nw.Wout = np.dot(np.dot(nw.Ytarget,nw.X_T), linalg.inv(np.dot(nw.X,nw.X_T) + nw.reg*np.eye(1+nw.inSize+nw.resSize) ) )\n",
    "    else:\n",
    "        nw.Wout = np.dot(nw.Ytarget, linalg.pinv(nw.X) )   \n",
    "    print('done.')\n",
    "    return(nw)\n",
    "\n",
    "def test(nw) :\n",
    "    print('Testing the network... (', nw.mode, ' mode)', sep=\"\", end=\" \")\n",
    "    nw.Y = np.zeros((nw.outSize,nw.testLen))\n",
    "    nw.u = nw.data_b[nw.trainLen%len(nw.data)]\n",
    "    percent = 0.1\n",
    "    for t in range(nw.testLen):\n",
    "        percent = progression(percent, t, nw.trainLen)\n",
    "        nw.x = (1-nw.a)*nw.x + nw.a*np.tanh( np.dot(nw.Win, np.concatenate((np.array([1]),nw.u)).reshape(len(nw.input_units)+1,1)\\\n",
    "                                                   ) + np.dot(nw.W,nw.x ) )\n",
    "        nw.y = np.dot(nw.Wout, np.concatenate((np.array([1]),nw.u,nw.x[:,0])).reshape(len(nw.input_units)+nw.resSize+1,1)[:,0] )\n",
    "        nw.Y[:,t] = nw.y\n",
    "        if nw.mode == 'generative':\n",
    "            # generative mode:\n",
    "            nw.u = nw.y\n",
    "        elif nw.mode == 'prediction':\n",
    "            ## predictive mode:\n",
    "            nw.u = np.zeros(len(nw.input_units))\n",
    "            nw.u[nw.data[(nw.trainLen+t+1)%len(nw.data)]] = 1\n",
    "        else:\n",
    "            raise(Exception, \"ERROR: 'mode' was not set correctly.\")\n",
    "    print('done.\\n')\n",
    "    return(nw)\n",
    "\n",
    "def compute_error(nw) :\n",
    "    print(\"Computing the error...\", end=\" \")\n",
    "    errorLen = 5\n",
    "    mse = sum( np.square( nw.data[(nw.trainLen+1)%len(nw.data):(nw.trainLen+errorLen+1)%len(nw.data)] - nw.Y[0,0:errorLen] ) ) / errorLen\n",
    "    print('MSE = ' + str( mse ))\n",
    "    return(nw)"
   ]
  },
  {
   "cell_type": "markdown",
   "metadata": {},
   "source": [
    "Quand les sorties sont prêtes, ce n'est que des IDs de notes. La prochaine fonction va \"transcrire\" ces IDs en les notes correspondantes."
   ]
  },
  {
   "cell_type": "code",
   "execution_count": 12,
   "metadata": {},
   "outputs": [],
   "source": [
    "def convert_output(nw) :\n",
    "    nw.output_text = \"\"\n",
    "    nw.output_values = []\n",
    "    print(\"Converting the output...\", end=\" \")\n",
    "    for i in range(len(nw.Y.T)) :\n",
    "        value = nw.output_units[nw.Y.T[i].argmax()]\n",
    "        nw.output_text += value + \" \"\n",
    "        if(value != ''):\n",
    "            nw.output_values.append(int(value))\n",
    "    print(\"done.\")\n",
    "    return(nw.output_text)\n",
    "    \n",
    "def progression(percent, i, total) :\n",
    "    if i == 0 :\n",
    "        print(\"Progress :\", end= \" \")\n",
    "        percent = 0.1\n",
    "    elif (i/total) > percent :\n",
    "        print(round(percent*100), end=\"\")\n",
    "        print(\"%\", end=\" \")\n",
    "        percent += 0.1\n",
    "    if total-i == 1 :\n",
    "        print(\"100%\")\n",
    "    return(percent)\n",
    "\n",
    "def compute_network(nw, file_name) :\n",
    "    nw = filter_characters(nw, file_name)\n",
    "    nw = characters(nw)\n",
    "    nw = convert_input(nw)\n",
    "    nw = binary_data(nw)\n",
    "    nw = initialization(nw)\n",
    "    nw = compute_spectral_radius(nw)\n",
    "    nw = train_network(nw)\n",
    "    nw = train_output(nw)\n",
    "    nw = test(nw) \n",
    "    nw = compute_error(nw)\n",
    "    nw = convert_output(nw)\n",
    "    return(nw)"
   ]
  },
  {
   "cell_type": "markdown",
   "metadata": {},
   "source": [
    "## Configuration du réseau"
   ]
  },
  {
   "cell_type": "markdown",
   "metadata": {},
   "source": [
    "Nous allons ici configurer les variables du réseau que nous allons utiliser."
   ]
  },
  {
   "cell_type": "code",
   "execution_count": 15,
   "metadata": {
    "scrolled": false
   },
   "outputs": [
    {
     "data": {
      "application/vnd.jupyter.widget-view+json": {
       "model_id": "628661c7ab364a62bb8dd643030f1012",
       "version_major": 2,
       "version_minor": 0
      },
      "text/plain": [
       "ToggleButtons(description='Mode:', options=('prediction', 'generative'), value='prediction')"
      ]
     },
     "metadata": {},
     "output_type": "display_data"
    },
    {
     "data": {
      "application/vnd.jupyter.widget-view+json": {
       "model_id": "3ddaa566193c46078b23ee84a9581701",
       "version_major": 2,
       "version_minor": 0
      },
      "text/plain": [
       "Dropdown(description='Fichier Midi:', index=1, options={'House of the rising sun': 1, 'Bach': 2}, value=2)"
      ]
     },
     "metadata": {},
     "output_type": "display_data"
    },
    {
     "data": {
      "application/vnd.jupyter.widget-view+json": {
       "model_id": "4207ae80be2b422b9f5989873ae98fd6",
       "version_major": 2,
       "version_minor": 0
      },
      "text/plain": [
       "FloatSlider(value=300.0, description='resSize', max=5000.0, step=1.0)"
      ]
     },
     "metadata": {},
     "output_type": "display_data"
    },
    {
     "data": {
      "application/vnd.jupyter.widget-view+json": {
       "model_id": "acb54e0b307346e0b5411e907cf06bd6",
       "version_major": 2,
       "version_minor": 0
      },
      "text/plain": [
       "FloatText(value=20.0, description='initLen')"
      ]
     },
     "metadata": {},
     "output_type": "display_data"
    },
    {
     "data": {
      "application/vnd.jupyter.widget-view+json": {
       "model_id": "3a43b4050dcc4f848359f24e0f32d5b8",
       "version_major": 2,
       "version_minor": 0
      },
      "text/plain": [
       "FloatText(value=1000.0, description='trainLen')"
      ]
     },
     "metadata": {},
     "output_type": "display_data"
    },
    {
     "data": {
      "application/vnd.jupyter.widget-view+json": {
       "model_id": "ee04884ad6884d9a9fb915cc8536f952",
       "version_major": 2,
       "version_minor": 0
      },
      "text/plain": [
       "FloatText(value=1000.0, description='testLen')"
      ]
     },
     "metadata": {},
     "output_type": "display_data"
    },
    {
     "data": {
      "application/vnd.jupyter.widget-view+json": {
       "model_id": "21d7a6ddcfe64fbd91f5b5e2965169b6",
       "version_major": 2,
       "version_minor": 0
      },
      "text/plain": [
       "FloatSlider(value=1.25, description='spectral radius', max=10.0, step=0.05)"
      ]
     },
     "metadata": {},
     "output_type": "display_data"
    },
    {
     "data": {
      "application/vnd.jupyter.widget-view+json": {
       "model_id": "4caac73bf21849b8b1e10310755b7bdc",
       "version_major": 2,
       "version_minor": 0
      },
      "text/plain": [
       "FloatSlider(value=0.3, description='leak rate', max=1.0, step=0.01)"
      ]
     },
     "metadata": {},
     "output_type": "display_data"
    },
    {
     "data": {
      "application/vnd.jupyter.widget-view+json": {
       "model_id": "900539bf6f3b4907b048a84fe203ec2a",
       "version_major": 2,
       "version_minor": 0
      },
      "text/plain": [
       "Button(description='Validate', style=ButtonStyle())"
      ]
     },
     "metadata": {},
     "output_type": "display_data"
    },
    {
     "name": "stdout",
     "output_type": "stream",
     "text": [
      "### NOTES NETWORK ###\n",
      "InitLen: 20 TrainLen: 1000 TestLen: 1000\n",
      "ResSize: 300 Spectral Radius: 1.25 Leak Rate: 0.3\n",
      "\n",
      "Existing notes in the midi file : ['36', '40', '41', '42', '43', '44', '45', '46', '47', '48', '49', '50', '51', '52', '53', '54', '55', '56', '57', '58', '59', '60', '61', '62', '63', '64', '65', '66', '67', '68', '69', '70', '71', '72', '73', '74', '76', '77', '78', '79', '81', '82', '83', '84'] \n",
      "Number of different notes : 44 \n",
      "\n",
      "Converting input into ID numbers... 44\n",
      "1284\n",
      "done.\n",
      "Creating the input binary matrix... (1284,)\n",
      "done.\n",
      "\n",
      "\n",
      "Initializing the network matrices... Seed used for random values: 898790591\n",
      "(1284, 44)\n",
      "(345, 980)\n",
      "(44, 980)\n",
      "[[0. 0. 0. ... 0. 0. 0.]\n",
      " [0. 0. 0. ... 0. 0. 0.]\n",
      " [0. 0. 0. ... 0. 0. 0.]\n",
      " ...\n",
      " [0. 0. 0. ... 0. 0. 0.]\n",
      " [0. 0. 0. ... 0. 0. 0.]\n",
      " [0. 0. 0. ... 0. 0. 0.]]\n",
      "done.\n",
      "Computing spectral radius... done.\n",
      "Training the network... Progress : 10% 20% 30% 40% 50% 60% 70% 80% 90% 100%\n",
      "done.\n",
      "Training the output... (44, 980)\n",
      "(980, 345)\n",
      "(345, 980)\n",
      "(1284,)\n",
      "[ 1  9 11 ...  8 42 24]\n",
      "(1284, 44)\n",
      "[[0. 1. 0. ... 0. 0. 0.]\n",
      " [0. 0. 0. ... 0. 0. 0.]\n",
      " [0. 0. 0. ... 0. 0. 0.]\n",
      " ...\n",
      " [0. 0. 0. ... 0. 0. 0.]\n",
      " [0. 0. 0. ... 0. 1. 0.]\n",
      " [0. 0. 0. ... 0. 0. 0.]]\n",
      "done.\n",
      "Testing the network... (prediction mode) Progress : 10% 20% 30% 40% 50% 60% 70% 80% 90% 100%\n",
      "done.\n",
      "\n",
      "Computing the error... MSE = 613.7780400896512\n",
      "Converting the output... done.\n",
      "### SPEEDS NETWORK ###\n",
      "InitLen: 20 TrainLen: 1000 TestLen: 1000\n",
      "ResSize: 300 Spectral Radius: 1.25 Leak Rate: 0.3\n",
      "\n",
      "Existing notes in the midi file : ['10', '11', '12', '13', '14', '15', '16', '18', '19', '20', '21', '22', '23', '24', '25', '26', '27', '28', '29', '30', '34', '35', '36', '37', '38', '39', '40', '42', '44', '45', '46', '47', '48', '49', '51', '52', '54', '55', '56', '57', '58', '59', '60', '61', '64', '65', '67', '68', '69', '70', '71', '72', '73', '77', '78', '79', '80', '81', '82', '83', '84', '85', '86', '87', '88', '89', '90', '91', '93', '94', '95', '96', '97', '98', '99'] \n",
      "Number of different notes : 75 \n",
      "\n",
      "Converting input into ID numbers... 75\n",
      "1284\n",
      "done.\n",
      "Creating the input binary matrix... (1284,)\n",
      "done.\n",
      "\n",
      "\n",
      "Initializing the network matrices... Seed used for random values: 898790591\n",
      "(1284, 75)\n",
      "(376, 980)\n",
      "(75, 980)\n",
      "[[0. 0. 0. ... 0. 0. 0.]\n",
      " [0. 0. 0. ... 0. 0. 0.]\n",
      " [0. 0. 0. ... 0. 0. 0.]\n",
      " ...\n",
      " [0. 0. 0. ... 0. 0. 0.]\n",
      " [0. 0. 0. ... 0. 0. 0.]\n",
      " [0. 0. 0. ... 0. 0. 0.]]\n",
      "done.\n",
      "Computing spectral radius... done.\n",
      "Training the network... Progress : 10% 20% 30% 40% 50% 60% 70% 80% 90% 100%\n",
      "done.\n",
      "Training the output... (75, 980)\n",
      "(980, 376)\n",
      "(376, 980)\n",
      "(1284,)\n",
      "[29 22 20 ... 69 69 69]\n",
      "(1284, 75)\n",
      "[[0. 0. 0. ... 0. 0. 0.]\n",
      " [0. 0. 0. ... 0. 0. 0.]\n",
      " [0. 0. 0. ... 0. 0. 0.]\n",
      " ...\n",
      " [0. 0. 0. ... 0. 0. 0.]\n",
      " [0. 0. 0. ... 0. 0. 0.]\n",
      " [0. 0. 0. ... 0. 0. 0.]]\n",
      "done.\n",
      "Testing the network... (prediction mode) Progress : 10% 20% 30% 40% 50% 60% 70% 80% 90% 100%\n",
      "done.\n",
      "\n",
      "Computing the error... MSE = 2014.815731800234\n",
      "Converting the output... done.\n",
      "Notes predicted : \n",
      "[64, 72, 62, 76, 72, 62, 62, 62, 62, 62, 62, 76, 59, 57, 57, 57, 57, 57, 64, 64, 81, 74, 64, 81, 57, 57, 57, 64, 64, 57, 57, 57, 57, 57, 57, 57, 66, 57, 57, 60, 57, 60, 60, 60, 57, 57, 57, 57, 57, 57, 74, 55, 60, 60, 60, 79, 69, 79, 69, 79, 79, 79, 74, 57, 57, 72, 72, 57, 57, 57, 74, 69, 69, 69, 72, 72, 72, 72, 72, 72, 57, 57, 57, 59, 59, 59, 55, 68, 60, 74, 74, 74, 74, 74, 67, 67, 67, 67, 67, 67, 76, 60, 67, 74, 74, 60, 79, 79, 79, 65, 79, 65, 65, 79, 65, 65, 65, 65, 62, 65, 65, 65, 65, 59, 59, 59, 59, 59, 59, 60, 59, 64, 64, 60, 60, 67, 59, 59, 59, 60, 60, 60, 60, 60, 48, 48, 52, 64, 64, 64, 64, 72, 72, 57, 57, 57, 57, 57, 57, 57, 67, 62, 57, 57, 72, 72, 65, 72, 65, 72, 72, 74, 72, 72, 72, 55, 71, 55, 55, 55, 55, 55, 60, 60, 60, 60, 60, 65, 65, 76, 52, 76, 62, 62, 62, 62, 60, 60, 69, 60, 48, 48, 48, 48, 72, 65, 65, 65, 65, 65, 65, 60, 60, 60, 60, 60, 60, 60, 60, 60, 60, 62, 62, 62, 62, 62, 62, 62, 62, 62, 62, 62, 57, 57, 57, 59, 59, 59, 59, 59, 59, 60, 60, 60, 60, 60, 60, 60, 60, 60, 60, 60, 60, 62, 62, 62, 62, 62, 62, 62, 65, 62, 71, 55, 55, 55, 55, 59, 60, 60, 60, 57, 57, 59, 59, 64, 59, 59, 59, 59, 59, 64, 60, 60, 60, 60, 81, 57, 57, 59, 74, 74, 74, 74, 74, 74, 74, 74, 60, 60, 74, 64, 60, 60, 60, 60, 76, 60, 76, 76, 76, 76, 76, 76, 76, 76, 76, 76, 76, 76, 76, 76, 65, 65, 65, 65, 71, 79, 76, 64, 64, 64, 64, 71, 76, 76, 64, 65, 65, 64, 64, 65, 72, 65, 79, 72, 53, 79, 64, 69, 53, 81, 53, 53, 81, 53, 53, 57, 76, 81, 53, 76, 81, 60, 62, 66, 69, 74, 66, 69, 74, 60, 62, 66, 69, 74, 66, 69, 74, 59, 62, 67, 74, 79, 67, 74, 79, 62, 62, 67, 74, 79, 67, 74, 79, 59, 60, 64, 67, 72, 64, 67, 72, 60, 60, 64, 67, 72, 64, 67, 72, 57, 60, 64, 67, 72, 64, 67, 72, 57, 60, 64, 67, 72, 64, 67, 72, 57, 57, 62, 66, 72, 62, 66, 72, 50, 57, 62, 66, 72, 62, 66, 72, 55, 59, 62, 67, 71, 62, 67, 71, 55, 59, 62, 67, 71, 55, 67, 71, 55, 58, 64, 67, 73, 64, 67, 73, 55, 58, 64, 67, 73, 64, 67, 73, 53, 57, 62, 69, 74, 62, 69, 74, 53, 57, 62, 69, 74, 62, 69, 74, 53, 56, 62, 65, 71, 62, 65, 71, 53, 56, 62, 65, 71, 62, 65, 71, 52, 55, 60, 67, 72, 60, 67, 72, 52, 55, 60, 67, 72, 60, 67, 72, 52, 53, 57, 60, 65, 57, 60, 65, 52, 53, 57, 60, 65, 57, 60, 65, 50, 53, 57, 60, 65, 57, 60, 65, 50, 53, 57, 60, 65, 57, 60, 65, 43, 50, 55, 59, 65, 55, 59, 65, 43, 50, 55, 59, 65, 55, 59, 65, 48, 52, 55, 60, 64, 55, 60, 64, 48, 52, 55, 60, 64, 55, 60, 64, 48, 55, 58, 60, 64, 58, 60, 64, 48, 55, 58, 60, 64, 58, 60, 64, 41, 53, 57, 60, 64, 57, 60, 64, 41, 53, 57, 60, 64, 57, 60, 64, 42, 48, 57, 60, 63, 57, 60, 63, 42, 48, 57, 60, 63, 57, 60, 63, 44, 53, 59, 60, 62, 59, 60, 62, 44, 53, 59, 60, 62, 59, 60, 62, 43, 53, 55, 59, 62, 55, 59, 62, 43, 53, 55, 59, 62, 55, 59, 62, 43, 52, 55, 60, 64, 55, 60, 64, 43, 52, 55, 60, 64, 55, 60, 64, 43, 50, 55, 60, 65, 55, 60, 65, 43, 50, 55, 60, 65, 55, 60, 65, 43, 50, 55, 59, 65, 55, 59, 65, 43, 50, 55, 59, 65, 55, 59, 65, 43, 51, 57, 60, 66, 57, 60, 66, 43, 51, 57, 60, 66, 57, 60, 66, 43, 52, 55, 60, 67, 55, 60, 67, 43, 52, 55, 60, 67, 55, 60, 67, 43, 50, 55, 60, 65, 55, 60, 65, 43, 50, 55, 60, 65, 55, 60, 65, 43, 50, 55, 59, 65, 55, 59, 65, 43, 50, 55, 59, 65, 55, 59, 65, 43, 48, 55, 58, 64, 55, 58, 64, 36, 48, 55, 58, 64, 55, 58, 64, 36, 48, 53, 57, 60, 65, 57, 57, 60, 57, 53, 57, 53, 50, 53, 50, 36, 50, 67, 71, 74, 77, 74, 71, 74, 71, 67, 62, 62, 65, 64, 62, 72, 64, 64, 36, 48, 60, 62, 64, 65, 67, 64, 64, 69, 62, 67, 69, 67, 65, 64, 65, 67, 64, 62, 69, 60, 62, 71, 60, 59, 72, 57, 66, 74, 72, 71, 67, 76, 69, 74, 66, 64, 66, 76, 74, 62, 72, 71, 67, 67, 69, 65, 55, 71, 72, 64, 57, 71, 72, 62, 59, 60, 76, 60, 60, 74, 76, 78, 62, 60, 79, 59, 71, 67, 64, 72, 57, 69, 65, 62, 64, 74, 65, 72, 64, 71, 62, 69, 60, 59, 59, 65, 64, 60, 48, 67, 65, 62, 50, 64, 65, 58, 52, 67, 69, 60, 57, 60, 67, 69, 65, 62, 71, 55, 53, 72, 55, 52, 67, 65, 60, 57, 64, 65, 50, 57, 62, 59, 55, 60, 71, 67, 62, 57, 55, 53, 55, 52, 53, 72, 52, 50, 74, 48, 50, 76, 55, 48, 47, 77, 57, 45, 59, 50, 79, 77, 76, 57, 57, 81, 54, 62, 60, 74, 59, 55, 57, 79, 64, 58, 55, 57, 49, 81]\n",
      "Speeds predicted : \n",
      "[23, 98, 98, 98, 98, 98, 98, 98, 98, 98, 98, 98, 35, 35, 35, 35, 35, 35, 35, 35, 35, 23, 22, 22, 23, 22, 35, 11, 11, 11, 81, 98, 98, 98, 98, 98, 98, 98, 98, 98, 98, 98, 98, 99, 99, 99, 99, 55, 55, 23, 23, 23, 23, 23, 78, 98, 98, 98, 98, 98, 98, 98, 98, 23, 23, 23, 23, 23, 23, 23, 23, 23, 23, 23, 23, 23, 23, 23, 23, 23, 11, 11, 11, 23, 23, 23, 23, 23, 23, 23, 23, 23, 23, 23, 11, 23, 23, 23, 23, 23, 23, 23, 23, 23, 23, 23, 23, 23, 23, 23, 23, 23, 23, 23, 23, 23, 23, 98, 11, 98, 11, 11, 11, 21, 21, 21, 21, 21, 21, 21, 21, 21, 21, 21, 11, 11, 11, 10, 10, 11, 11, 11, 11, 52, 11, 98, 98, 98, 98, 23, 23, 23, 21, 23, 23, 23, 23, 23, 23, 23, 23, 23, 98, 98, 23, 23, 23, 23, 23, 23, 23, 23, 23, 98, 98, 99, 98, 11, 11, 11, 11, 23, 23, 23, 98, 98, 23, 23, 23, 23, 23, 23, 90, 90, 23, 78, 78, 78, 10, 10, 78, 24, 10, 10, 10, 10, 10, 10, 10, 10, 10, 87, 87, 10, 10, 10, 10, 10, 87, 98, 98, 98, 23, 23, 23, 23, 23, 23, 23, 23, 23, 23, 23, 23, 23, 23, 23, 23, 23, 23, 23, 23, 23, 23, 23, 11, 11, 11, 11, 11, 11, 11, 11, 11, 11, 11, 23, 23, 23, 23, 23, 23, 23, 23, 23, 23, 23, 23, 23, 23, 23, 23, 23, 23, 23, 23, 23, 23, 23, 23, 23, 23, 23, 23, 11, 10, 11, 11, 11, 11, 11, 11, 11, 98, 98, 12, 12, 12, 12, 23, 23, 10, 23, 23, 23, 23, 23, 23, 23, 23, 23, 80, 23, 23, 11, 78, 68, 99, 11, 86, 97, 97, 80, 79, 69, 99, 99, 86, 99, 99, 99, 78, 68, 99, 98, 85, 98, 98, 10, 78, 68, 98, 98, 86, 98, 98, 23, 79, 69, 10, 98, 86, 98, 98, 98, 79, 69, 10, 10, 86, 98, 98, 10, 77, 68, 98, 98, 85, 97, 97, 97, 79, 69, 10, 10, 87, 97, 97, 10, 78, 68, 10, 97, 86, 97, 97, 10, 79, 69, 10, 99, 87, 96, 96, 10, 79, 69, 10, 10, 87, 96, 96, 10, 78, 68, 98, 98, 87, 96, 96, 10, 79, 69, 10, 98, 88, 10, 10, 10, 81, 71, 99, 99, 89, 10, 10, 10, 80, 70, 10, 99, 89, 99, 99, 10, 80, 70, 10, 99, 89, 99, 99, 10, 78, 69, 99, 99, 88, 98, 98, 98, 79, 69, 99, 99, 87, 97, 97, 10, 79, 69, 99, 99, 87, 97, 97, 10, 79, 69, 99, 99, 88, 98, 98, 98, 79, 69, 99, 99, 88, 98, 98, 98, 79, 69, 99, 99, 88, 98, 98, 10, 79, 69, 99, 99, 88, 98, 98, 98, 79, 69, 10, 99, 88, 98, 98, 10, 78, 68, 99, 99, 87, 96, 96, 96, 79, 69, 99, 99, 87, 97, 97, 10, 79, 69, 10, 10, 88, 98, 98, 98, 80, 70, 10, 10, 88, 98, 98, 10, 80, 70, 10, 10, 88, 98, 98, 10, 80, 70, 10, 10, 89, 99, 99, 10, 80, 70, 10, 10, 90, 10, 10, 10, 80, 70, 10, 10, 90, 10, 10, 10, 81, 71, 10, 10, 90, 10, 10, 10, 80, 70, 10, 10, 90, 10, 10, 99, 79, 69, 10, 99, 99, 99, 99, 99, 80, 70, 10, 10, 87, 10, 10, 10, 79, 69, 10, 99, 88, 98, 98, 98, 80, 70, 10, 99, 88, 98, 98, 10, 81, 70, 10, 10, 90, 10, 10, 10, 82, 72, 10, 10, 90, 10, 10, 10, 78, 68, 98, 98, 88, 96, 96, 10, 78, 69, 98, 98, 88, 96, 96, 10, 79, 69, 10, 98, 88, 98, 98, 98, 80, 70, 10, 98, 88, 98, 98, 10, 79, 69, 10, 10, 88, 98, 98, 98, 79, 69, 10, 10, 88, 98, 98, 98, 78, 68, 98, 98, 86, 96, 96, 10, 79, 69, 99, 99, 86, 96, 97, 10, 78, 68, 99, 99, 87, 97, 97, 97, 79, 69, 99, 99, 87, 97, 97, 10, 80, 70, 99, 99, 89, 10, 10, 10, 81, 71, 99, 99, 89, 10, 10, 10, 82, 71, 10, 10, 90, 10, 10, 10, 82, 71, 10, 10, 90, 10, 10, 10, 79, 69, 10, 10, 90, 98, 98, 98, 79, 69, 10, 10, 90, 98, 98, 98, 80, 70, 10, 10, 90, 10, 10, 10, 80, 70, 10, 10, 90, 10, 10, 10, 81, 71, 10, 10, 90, 10, 10, 10, 81, 71, 10, 10, 90, 10, 10, 10, 10, 15, 10, 99, 99, 10, 10, 10, 10, 10, 10, 10, 10, 10, 10, 11, 20, 19, 10, 10, 10, 10, 10, 10, 11, 11, 11, 11, 14, 15, 16, 23, 28, 28, 28, 28, 28, 24, 24, 24, 35, 55, 55, 21, 23, 22, 11, 11, 11, 11, 11, 11, 23, 11, 11, 11, 11, 11, 24, 12, 12, 35, 23, 23, 55, 55, 21, 71, 23, 22, 35, 11, 11, 21, 11, 11, 11, 11, 11, 64, 64, 11, 23, 23, 11, 11, 23, 23, 11, 11, 23, 23, 11, 11, 23, 65, 11, 12, 11, 55, 55, 23, 21, 23, 47, 23, 22, 22, 23, 11, 11, 11, 11, 11, 11, 11, 11, 11, 11, 11, 35, 11, 11, 24, 47, 24, 12, 11, 46, 23, 11, 11, 23, 23, 11, 11, 23, 21, 11, 11, 11, 22, 22, 10, 54, 54, 95, 21, 21, 11, 11, 23, 23, 11, 22, 22, 12, 23, 11, 35, 11, 11, 93, 46, 11, 11, 11, 47, 88, 11, 11, 11, 11, 23, 88, 11, 24, 24, 12, 12, 35, 23, 23, 23, 23, 55, 55, 21, 35, 23, 23, 23, 58, 58, 22, 22, 12, 12, 35, 23, 11, 11, 21, 23, 11]\n"
     ]
    }
   ],
   "source": [
    "select_mode = ToggleButtons(description='Mode:', options=['prediction', 'generative'])\n",
    "text = Dropdown(description='Fichier Midi:', options={\"House of the rising sun\" : 1, \"Bach\" : 2}, value = 2)\n",
    "var4 = FloatSlider(value=300, min=0, max=5000, step=1, description='resSize')\n",
    "var5 = FloatText(value=20, description='initLen')\n",
    "var6 = FloatText(value=1000, description='trainLen')\n",
    "var7 = FloatText(value=1000, description='testLen')\n",
    "var8 = FloatSlider(value=1.25, min=0, max=10, step=0.05, description='spectral radius')\n",
    "var9 = FloatSlider(value=0.3, min=0, max=1, step=0.01, description='leak rate')\n",
    "valid = Button(description='Validate')\n",
    "\n",
    "NOTES_FILE_NAME = \"notes.txt\"\n",
    "SPEEDS_FILE_NAME = \"speeds.txt\"\n",
    "    \n",
    "notes_values = []\n",
    "speeds_values = []\n",
    "\n",
    "def midi_to_txt(name):    \n",
    "    mid = mido.MidiFile(\"samples/\" + name)\n",
    "    \n",
    "    notes = []\n",
    "    sumTime = 0\n",
    "\n",
    "    for msg in mid:\n",
    "        sumTime += msg.time\n",
    "\n",
    "        if(msg.type == \"note_off\" or (msg.type == \"note_on\" and msg.velocity == 0)):\n",
    "            j = len(notes) - 1\n",
    "            while(j >= 0):\n",
    "                note, time = notes[j]\n",
    "                if(note == msg.note):\n",
    "                    notes[j] = (note, sumTime - time)\n",
    "                    break\n",
    "                j -= 1\n",
    "\n",
    "        elif(msg.type == \"note_on\"):\n",
    "            notes.append((msg.note, sumTime))\n",
    "    \n",
    "    notes_array = []\n",
    "    speed_array = []\n",
    "    for note, speed in notes:\n",
    "        notes_array.append(note)\n",
    "        speed_array.append(speed)\n",
    "        \n",
    "        \n",
    "    notes_file = open(NOTES_FILE_NAME, \"w\")\n",
    "    speeds_file = open(SPEEDS_FILE_NAME, \"w\")\n",
    "    for note, speed in notes:\n",
    "        notes_file.write(str(note)+\"\\n\")\n",
    "        speeds_file.write(str(speed*500)+\"\\n\")\n",
    "    \n",
    "    notes_file.close()\n",
    "    speeds_file.close()\n",
    "    \n",
    "    return NOTES_FILE_NAME, SPEEDS_FILE_NAME\n",
    "    \n",
    "    \n",
    "def record_values(_):\n",
    "    global notes_values\n",
    "    global speeds_values\n",
    "    \n",
    "    file = text.value\n",
    "    midis = [\"house_of_the_rising_sunasax_as.mid\", \"bach_846_format0.mid\"]\n",
    "    notes_file_name, speeds_file_name = midi_to_txt(midis[file-1])\n",
    "    \n",
    "    #Notes network\n",
    "    print(\"### NOTES NETWORK ###\")\n",
    "    #clear_output()\n",
    "    nw.mode=select_mode.value\n",
    "    nw.resSize=int(var4.value)\n",
    "    nw.initLen=int(var5.value)\n",
    "    nw.trainLen=int(var6.value)\n",
    "    nw.testLen=int(var7.value)\n",
    "    nw.spectral_radius=float(var8.value)\n",
    "    nw.a=float(var9.value)\n",
    "    \n",
    "    print(\"InitLen:\", nw.initLen, \"TrainLen:\", nw.trainLen, \"TestLen:\", nw.testLen) \n",
    "    print(\"ResSize:\", nw.resSize, \"Spectral Radius:\", nw.spectral_radius, \"Leak Rate:\", nw.a)\n",
    "        \n",
    "    compute_network(nw, notes_file_name)\n",
    "    notes_values = nw.output_values\n",
    "    \n",
    "    #Speeds network\n",
    "    print(\"### SPEEDS NETWORK ###\")\n",
    "    #clear_output()\n",
    "    nw.mode=select_mode.value\n",
    "    nw.resSize=int(var4.value)\n",
    "    nw.initLen=int(var5.value)\n",
    "    nw.trainLen=int(var6.value)\n",
    "    nw.testLen=int(var7.value)\n",
    "    nw.spectral_radius=float(var8.value)\n",
    "    nw.a=float(var9.value)\n",
    "    \n",
    "    print(\"InitLen:\", nw.initLen, \"TrainLen:\", nw.trainLen, \"TestLen:\", nw.testLen) \n",
    "    print(\"ResSize:\", nw.resSize, \"Spectral Radius:\", nw.spectral_radius, \"Leak Rate:\", nw.a)\n",
    "        \n",
    "    compute_network(nw, speeds_file_name)\n",
    "    speeds_values = nw.output_values\n",
    "    \n",
    "    print(\"Notes predicted : \")\n",
    "    print(notes_values)\n",
    "    print(\"Speeds predicted : \")\n",
    "    print(speeds_values)\n",
    "    \n",
    "\n",
    "display(select_mode)\n",
    "display(text)\n",
    "display(var4)\n",
    "display(var5)\n",
    "display(var6)\n",
    "display(var7)\n",
    "display(var8)\n",
    "display(var9)\n",
    "display(valid)\n",
    "\n",
    "valid.on_click(record_values)"
   ]
  },
  {
   "cell_type": "markdown",
   "metadata": {},
   "source": [
    "Le prochain graphique affiche la répartition des notes parmi les premières notes du fichier. L'axe des x représente les n premières nots du fichier audio (que l'on peut changer), et l'axe y l'ensemble des notes du fichier audio"
   ]
  },
  {
   "cell_type": "code",
   "execution_count": 16,
   "metadata": {},
   "outputs": [
    {
     "data": {
      "image/png": "[encoded data removed]",
      "text/plain": [
       "<Figure size 432x288 with 1 Axes>"
      ]
     },
     "metadata": {
      "needs_background": "light"
     },
     "output_type": "display_data"
    }
   ],
   "source": [
    "var10 = FloatText(value=len(nw.input_units), description='Number of chars')\n",
    "#La value de var10 ne peut pas dépasser le nombre de notes présentes dans le fichier midi  \n",
    "valid2 = Button(description='Validate')\n",
    "        \n",
    "def trace_graph1(_) :\n",
    "    clear_output()\n",
    "    plt.figure(1).clear()\n",
    "    limit = np.arange(int(var10.value))\n",
    "    plt.plot(limit,nw.data[0:int(var10.value)], 'ro')\n",
    "    plt.title('Characters throughout the text')\n",
    "    \n",
    "valid2.on_click(trace_graph1)\n",
    "    \n",
    "display(var10)\n",
    "display(valid2)"
   ]
  },
  {
   "cell_type": "markdown",
   "metadata": {},
   "source": [
    "Finalement, nous pouvons voir le résultat généré."
   ]
  },
  {
   "cell_type": "code",
   "execution_count": 17,
   "metadata": {},
   "outputs": [
    {
     "data": {
      "application/vnd.jupyter.widget-view+json": {
       "model_id": "52fb61881c824b13b8730b5313129cf2",
       "version_major": 2,
       "version_minor": 0
      },
      "text/plain": [
       "Button(description='Show the output!', style=ButtonStyle())"
      ]
     },
     "metadata": {},
     "output_type": "display_data"
    },
    {
     "name": "stdout",
     "output_type": "stream",
     "text": [
      "23 98 98 98 98 98 98 98 98 98 98 98 35 35 35 35 35 35 35 35 35 23 22 22 23 22 35 11 11 11 81 98 98 98 98 98 98 98 98 98 98 98 98 99 99 99 99 55 55 23 23 23 23 23 78 98 98 98 98 98 98 98 98 23 23 23 23 23 23 23 23 23 23 23 23 23 23 23 23 23 11 11 11 23 23 23 23 23 23 23 23 23 23 23 11 23 23 23 23 23 23 23 23 23 23 23 23 23 23 23 23 23 23 23 23 23 23 98 11 98 11 11 11 21 21 21 21 21 21 21 21 21 21 21 11 11 11 10 10 11 11 11 11 52 11 98 98 98 98 23 23 23 21 23 23 23 23 23 23 23 23 23 98 98 23 23 23 23 23 23 23 23 23 98 98 99 98 11 11 11 11 23 23 23 98 98 23 23 23 23 23 23 90 90 23 78 78 78 10 10 78 24 10 10 10 10 10 10 10 10 10 87 87 10 10 10 10 10 87 98 98 98 23 23 23 23 23 23 23 23 23 23 23 23 23 23 23 23 23 23 23 23 23 23 23 11 11 11 11 11 11 11 11 11 11 11 23 23 23 23 23 23 23 23 23 23 23 23 23 23 23 23 23 23 23 23 23 23 23 23 23 23 23 23 11 10 11 11 11 11 11 11 11 98 98 12 12 12 12 23 23 10 23 23 23 23 23 23 23 23 23 80 23 23 11 78 68 99 11 86 97 97 80 79 69 99 99 86 99 99 99 78 68 99 98 85 98 98 10 78 68 98 98 86 98 98 23 79 69 10 98 86 98 98 98 79 69 10 10 86 98 98 10 77 68 98 98 85 97 97 97 79 69 10 10 87 97 97 10 78 68 10 97 86 97 97 10 79 69 10 99 87 96 96 10 79 69 10 10 87 96 96 10 78 68 98 98 87 96 96 10 79 69 10 98 88 10 10 10 81 71 99 99 89 10 10 10 80 70 10 99 89 99 99 10 80 70 10 99 89 99 99 10 78 69 99 99 88 98 98 98 79 69 99 99 87 97 97 10 79 69 99 99 87 97 97 10 79 69 99 99 88 98 98 98 79 69 99 99 88 98 98 98 79 69 99 99 88 98 98 10 79 69 99 99 88 98 98 98 79 69 10 99 88 98 98 10 78 68 99 99 87 96 96 96 79 69 99 99 87 97 97 10 79 69 10 10 88 98 98 98 80 70 10 10 88 98 98 10 80 70 10 10 88 98 98 10 80 70 10 10 89 99 99 10 80 70 10 10 90 10 10 10 80 70 10 10 90 10 10 10 81 71 10 10 90 10 10 10 80 70 10 10 90 10 10 99 79 69 10 99 99 99 99 99 80 70 10 10 87 10 10 10 79 69 10 99 88 98 98 98 80 70 10 99 88 98 98 10 81 70 10 10 90 10 10 10 82 72 10 10 90 10 10 10 78 68 98 98 88 96 96 10 78 69 98 98 88 96 96 10 79 69 10 98 88 98 98 98 80 70 10 98 88 98 98 10 79 69 10 10 88 98 98 98 79 69 10 10 88 98 98 98 78 68 98 98 86 96 96 10 79 69 99 99 86 96 97 10 78 68 99 99 87 97 97 97 79 69 99 99 87 97 97 10 80 70 99 99 89 10 10 10 81 71 99 99 89 10 10 10 82 71 10 10 90 10 10 10 82 71 10 10 90 10 10 10 79 69 10 10 90 98 98 98 79 69 10 10 90 98 98 98 80 70 10 10 90 10 10 10 80 70 10 10 90 10 10 10 81 71 10 10 90 10 10 10 81 71 10 10 90 10 10 10 10 15 10 99 99 10 10 10 10 10 10 10 10 10 10 11 20 19 10 10 10 10 10 10 11 11 11 11 14 15 16 23 28 28 28 28 28 24 24 24 35 55 55 21 23 22 11 11 11 11 11 11 23 11 11 11 11 11 24 12 12 35 23 23 55 55 21 71 23 22 35 11 11 21 11 11 11 11 11 64 64 11 23 23 11 11 23 23 11 11 23 23 11 11 23 65 11 12 11 55 55 23 21 23 47 23 22 22 23 11 11 11 11 11 11 11 11 11 11 11 35 11 11 24 47 24 12 11 46 23 11 11 23 23 11 11 23 21 11 11 11 22 22 10 54 54 95 21 21 11 11 23 23 11 22 22 12 23 11 35 11 11 93 46 11 11 11 47 88 11 11 11 11 23 88 11 24 24 12 12 35 23 23 23 23 55 55 21 35 23 23 23 58 58 22 22 12 12 35 23 11 11 21 23 11 \n"
     ]
    }
   ],
   "source": [
    "valid3 = Button(description='Show the output!')\n",
    "\n",
    "def show_output(_) :\n",
    "    print(nw.output_text)\n",
    "\n",
    "display(valid3)\n",
    "valid3.on_click(show_output)"
   ]
  },
  {
   "cell_type": "markdown",
   "metadata": {},
   "source": [
    "Pour terminer, les notes sont enregistrées dans un fichier MIDI nommé \"new_song.mid\""
   ]
  },
  {
   "cell_type": "code",
   "execution_count": 18,
   "metadata": {},
   "outputs": [],
   "source": [
    "from mido import Message, MidiFile, MidiTrack\n",
    "\n",
    "mid = MidiFile()\n",
    "track = MidiTrack()\n",
    "mid.tracks.append(track)\n",
    "\n",
    "for i in range(len(notes_values)):\n",
    "    #print(\"note : \" + str(notes_values[i]) + \" speed : \" + str(speeds_values[i]))\n",
    "    track.append(Message('note_on', note=notes_values[i], time=0))\n",
    "    track.append(Message('note_off', note=notes_values[i], time=speeds_values[i]*7))\n",
    "\n",
    "mid.save('new_song.mid')"
   ]
  }
 ],
 "metadata": {
  "anaconda-cloud": {},
  "kernelspec": {
   "display_name": "Python 3",
   "language": "python",
   "name": "python3"
  },
  "language_info": {
   "codemirror_mode": {
    "name": "ipython",
    "version": 3
   },
   "file_extension": ".py",
   "mimetype": "text/x-python",
   "name": "python",
   "nbconvert_exporter": "python",
   "pygments_lexer": "ipython3",
   "version": "3.7.0"
  },
  "widgets": {
   "state": {
    "0ea51c9a05684957ac7f780c650d07e9": {
     "views": [
      {
       "cell_index": 17
      }
     ]
    },
    "16f6b2e73bef48adba31033aee697b92": {
     "views": [
      {
       "cell_index": 17
      }
     ]
    },
    "19f94908ee5b4d66aeb0b2321ee60652": {
     "views": [
      {
       "cell_index": 21
      }
     ]
    },
    "1cee34a4f52a443cb8cf00c41ed2fe61": {
     "views": [
      {
       "cell_index": 17
      }
     ]
    },
    "240726984cad4432a5758e2015d9497c": {
     "views": [
      {
       "cell_index": 19
      }
     ]
    },
    "72d0158cdf274e9d8ebcb3ced4e76bb8": {
     "views": [
      {
       "cell_index": 17
      }
     ]
    },
    "761a81f2ad56428d80ee079bb6bcf13b": {
     "views": [
      {
       "cell_index": 17
      }
     ]
    },
    "955d7d67993341e680ca5bece5476594": {
     "views": [
      {
       "cell_index": 17
      }
     ]
    },
    "bee880b8ee1e4c8995a3695f750dc110": {
     "views": [
      {
       "cell_index": 17
      }
     ]
    },
    "ca5e51e7c20947788b29d473c7667ee7": {
     "views": [
      {
       "cell_index": 17
      }
     ]
    },
    "db3de75861a746a1a4ff54cbbcec2032": {
     "views": [
      {
       "cell_index": 17
      }
     ]
    },
    "e28405f3723544f89fb2df38e93570d4": {
     "views": [
      {
       "cell_index": 17
      }
     ]
    },
    "e461378265f94837b632b09a19fb687e": {
     "views": [
      {
       "cell_index": 19
      }
     ]
    },
    "ebfe9300e4b149a09e788c48d8b7b3ac": {
     "views": [
      {
       "cell_index": 17
      }
     ]
    },
    "eee484961585441c9a7796e2c230758d": {
     "views": [
      {
       "cell_index": 17
      }
     ]
    }
   },
   "version": "1.2.0"
  }
 },
 "nbformat": 4,
 "nbformat_minor": 1
}
