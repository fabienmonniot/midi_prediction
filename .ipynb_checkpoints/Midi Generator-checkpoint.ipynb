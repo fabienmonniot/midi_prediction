{
 "cells": [
  {
   "cell_type": "markdown",
   "metadata": {
    "collapsed": true
   },
   "source": [
    "# Word Generator"
   ]
  },
  {
   "cell_type": "markdown",
   "metadata": {},
   "source": [
    "This program will use Mantas Lukoševičius' ESN to try to generate new words, from an input text. While the main program is explained in the \"Minimal ESN - EN\" notebook, we will here focus on the added parts that will help achieving this task."
   ]
  },
  {
   "cell_type": "code",
   "execution_count": 22,
   "metadata": {},
   "outputs": [],
   "source": [
    "%matplotlib inline\n",
    "import mido\n",
    "import numpy as np\n",
    "import matplotlib.pyplot as plt\n",
    "from scipy import linalg\n",
    "from ipywidgets import *\n",
    "from IPython.display import *"
   ]
  },
  {
   "cell_type": "code",
   "execution_count": 23,
   "metadata": {},
   "outputs": [],
   "source": [
    "mid = mido.MidiFile('samples/bach_846_format0.mid')"
   ]
  },
  {
   "cell_type": "markdown",
   "metadata": {},
   "source": [
    "Ecriture des notes du fichier midi dans un fichier text"
   ]
  },
  {
   "cell_type": "code",
   "execution_count": 24,
   "metadata": {},
   "outputs": [],
   "source": [
    "fichier = open(\"extrait_bach.txt\", \"w\")\n",
    "for msg in mid :\n",
    "    if(msg.type=='note_on'):\n",
    "        fichier.write(str(msg.note)+\"\\n\")\n",
    "fichier.close()"
   ]
  },
  {
   "cell_type": "markdown",
   "metadata": {},
   "source": [
    "Lecture d'un fichier avec juste les notes et mise dans une liste"
   ]
  },
  {
   "cell_type": "code",
   "execution_count": 25,
   "metadata": {},
   "outputs": [
    {
     "name": "stdout",
     "output_type": "stream",
     "text": [
<<<<<<< HEAD
      "1882047525\n",
      "Seed used for random values: 1882047525\n"
=======
      "3315987303\n",
      "Seed used for random values: 3315987303\n"
>>>>>>> 8ab1945db73fd82514b3dbb5585f593b51c82589
     ]
    }
   ],
   "source": [
    "def set_seed(seed=None):\n",
    "    \"\"\"Making the seed (for random values) variable if None\"\"\"\n",
    "\n",
    "    if seed is None:\n",
    "        import time\n",
    "        seed = int((time.time()*10**6) % 4294967295)\n",
    "        print(seed)\n",
    "    try:\n",
    "        np.random.seed(seed)\n",
    "        print(\"Seed used for random values:\", seed)\n",
    "    except:\n",
    "        print(\"!!! WARNING !!!: Seed was not set correctly.\")\n",
    "    return seed\n",
    "\n",
    "class Network(object):\n",
    "\n",
    "    def __init__(self, trainLen=2000, testLen=2000, initLen=100) :\n",
    "        self.initLen = initLen\n",
    "        self.trainLen = trainLen\n",
    "        self.testLen = testLen\n",
    "        self.file = open(\"extrait_bach.txt\", \"r\")\n",
    "        self.resSize = 300\n",
    "        self.a = 0.3\n",
    "        self.spectral_radius = 1.25\n",
    "        self.input_scaling = 1.\n",
    "        self.reg =  1e-8\n",
    "        self.mode = 'prediction'\n",
    "        seed = None #42\n",
    "        set_seed(seed)\n",
    "        \n",
    "nw = Network()"
   ]
  },
  {
   "cell_type": "markdown",
   "metadata": {},
   "source": [
    "Lecture d'un fichier avec juste les notes et mise dans une liste"
   ]
  },
  {
   "cell_type": "markdown",
   "metadata": {},
   "source": [
    "The next function analyzes a text (e.g., Sir Arthur Conan Doyle's Sherlock Holmes), and returns a list containing all the different characters that are present in the text. You can choose between taking case, punctuation and/or numbers into account."
   ]
  },
  {
   "cell_type": "code",
   "execution_count": 26,
   "metadata": {},
   "outputs": [],
   "source": [
    "def filter_characters(nw) :\n",
    "\n",
    "    notes_list_int = []\n",
    "    nw.input_text=[]\n",
    "    nw.file=open(\"extrait_bach.txt\",\"r\")\n",
    "    for i in nw.file:\n",
    "        if i not in notes_list_int:\n",
    "            notes_list_int.append(i)\n",
    "\n",
    "    for i in notes_list_int:\n",
    "        nw.input_text.append(i[:2])\n",
    "\n",
    "    return(nw)"
   ]
  },
  {
   "cell_type": "markdown",
   "metadata": {},
   "source": [
    "Let's see what characters are in the chosen input text."
   ]
  },
  {
   "cell_type": "code",
   "execution_count": 27,
   "metadata": {},
   "outputs": [],
   "source": [
    "def characters(nw) :\n",
    "    nw.input_units, nw.output_units = dict(), dict()\n",
    "    for i, item in enumerate(set(nw.input_text)) : nw.input_units[item] = i\n",
    "    for i, item in enumerate(set(nw.input_text)) : nw.output_units[i] = item\n",
    "    #nw.input_units = dict(enumerate(set(nw.input_text)))\n",
    "    print(\"\\nExisting notes in the midi file :\", sorted(nw.input_units),\n",
    "          \"\\nNumber of different notes :\", len(nw.input_units), \"\\n\")\n",
    "    return(nw)"
   ]
  },
  {
   "cell_type": "markdown",
   "metadata": {},
   "source": [
    "We will then convert the text values into numerical values, usable by the algorithm. We will consider the input as a vector $u(t)$, where each line matches a different character, according to <b>nw.chars</b>. Since there only can be one character at a time, we will convert the text from nw.input_text into a nw.data vector, where each element will be a character ID according to its position in nw.chars."
   ]
  },
  {
   "cell_type": "code",
   "execution_count": 28,
   "metadata": {},
   "outputs": [],
   "source": [
    "def convert_input(nw) :\n",
    "    print(\"Converting input into ID numbers...\", end=\" \")\n",
    "    nw.data = np.array([nw.input_units[i] for i in nw.input_text])\n",
    "    nw.inSize = nw.outSize = len(nw.input_units)\n",
    "    print(\"done.\")\n",
    "    return(nw)"
   ]
  },
  {
   "cell_type": "markdown",
   "metadata": {},
   "source": [
    "Now, we can try this on our network. The input $u$ will now be a vector, matching the size of nw.chars. Every time the program \"reads\" a character, we will give the corresponding neuron a value of 1. In any other case, this value will be 0."
   ]
  },
  {
   "cell_type": "code",
   "execution_count": 29,
   "metadata": {},
   "outputs": [],
   "source": [
    "def binary_data(nw) :\n",
    "    print(\"Creating the input binary matrix...\", end=\" \")\n",
    "    nw.data_b = np.zeros((len(nw.input_text), len(nw.input_units)))\n",
    "    for i, item in enumerate(nw.data) :\n",
    "        nw.data_b[i][item] = 1\n",
    "    print(\"done.\\n\") \n",
    "    return(nw)"
   ]
  },
  {
   "cell_type": "markdown",
   "metadata": {},
   "source": [
    "Then, we copy the code from the ESN."
   ]
  },
  {
   "cell_type": "code",
<<<<<<< HEAD
   "execution_count": 36,
=======
   "execution_count": 49,
>>>>>>> 8ab1945db73fd82514b3dbb5585f593b51c82589
   "metadata": {},
   "outputs": [],
   "source": [
    "def initialization(nw) :\n",
    "    print(\"\\nInitializing the network matrices...\", end=\" \")\n",
    "    set_seed()\n",
    "    nw.Win = (np.random.rand(nw.resSize,1+nw.inSize)-0.5) * nw.input_scaling\n",
    "    nw.W = np.random.rand(nw.resSize,nw.resSize)-0.5 \n",
    "    nw.X = np.zeros((1+nw.inSize+nw.resSize,nw.trainLen-nw.initLen))\n",
    "    nw.Ytarget = nw.data_b[None,nw.initLen+1:nw.trainLen+1]\n",
    "    nw.x = np.zeros((nw.resSize,1))\n",
    "    print(\"done.\")\n",
    "    return(nw)\n",
    "\n",
    "def compute_spectral_radius(nw):\n",
    "    print('Computing spectral radius...',end=\" \")\n",
    "    rhoW = max(abs(linalg.eig(nw.W)[0]))\n",
    "    print('done.')\n",
    "    nw.W *= nw.spectral_radius / rhoW\n",
    "    return(nw)\n",
    "\n",
    "def train_network(nw) :\n",
    "    print('Training the network...', end=\" \")\n",
    "    percent = 0.1\n",
    "    for t in range(nw.trainLen):\n",
    "        percent = progression(percent, t, nw.trainLen)\n",
    "        nw.u = nw.data_b[t%len(nw.data)]\n",
    "        nw.x = (1-nw.a)*nw.x + nw.a*np.tanh( np.dot(nw.Win, np.concatenate((np.array([1]),nw.u)).reshape(len(nw.input_units)+1,1) ) + np.dot( nw.W, nw.x ) )\n",
    "        if t >= nw.initLen :\n",
    "            nw.X[:,t-nw.initLen] = np.concatenate((np.array([1]),nw.u,nw.x[:,0])).reshape(len(nw.input_units)+nw.resSize+1,1)[:,0]      \n",
    "    print('done.')\n",
    "    return(nw)\n",
    "\n",
    "def train_output(nw) :\n",
    "    print('Training the output...', end=\" \")\n",
    "    nw.X_T = nw.X.T\n",
    "    print(nw.Ytarget.shape)\n",
    "    print(nw.X_T.shape)\n",
    "    print(nw.X.shape)\n",
    "    if nw.reg is not None:\n",
    "        nw.Wout = np.dot(np.dot(nw.Ytarget,nw.X_T), linalg.inv(np.dot(nw.X,nw.X_T) + nw.reg*np.eye(1+nw.inSize+nw.resSize) ) )\n",
    "    else:\n",
    "        nw.Wout = np.dot(nw.Ytarget, linalg.pinv(nw.X) )   \n",
    "    print('done.')\n",
    "    return(nw)\n",
    "\n",
    "def test(nw) :\n",
    "    print('Testing the network... (', nw.mode, ' mode)', sep=\"\", end=\" \")\n",
    "    nw.Y = np.zeros((nw.outSize,nw.testLen))\n",
    "    nw.u = nw.data_b[nw.trainLen%len(nw.data)]\n",
    "    percent = 0.1\n",
    "    for t in range(nw.testLen):\n",
    "        percent = progression(percent, t, nw.trainLen)\n",
    "        nw.x = (1-nw.a)*nw.x + nw.a*np.tanh( np.dot(nw.Win, np.concatenate((np.array([1]),nw.u)).reshape(len(nw.input_units)+1,1)\\\n",
    "                                                   ) + np.dot(nw.W,nw.x ) )\n",
    "        nw.y = np.dot(nw.Wout, np.concatenate((np.array([1]),nw.u,nw.x[:,0])).reshape(len(nw.input_units)+nw.resSize+1,1)[:,0] )\n",
    "        nw.Y[:,t] = nw.y\n",
    "        if nw.mode == 'generative':\n",
    "            # generative mode:\n",
    "            nw.u = nw.y\n",
    "        elif nw.mode == 'prediction':\n",
    "            ## predictive mode:\n",
    "            nw.u = np.zeros(len(nw.input_units))\n",
    "            nw.u[nw.data[(nw.trainLen+t+1)%len(nw.data)]] = 1\n",
    "        else:\n",
    "            raise(Exception, \"ERROR: 'mode' was not set correctly.\")\n",
    "    print('done.\\n')\n",
    "    return(nw)\n",
    "\n",
    "def compute_error(nw) :\n",
    "    print(\"Computing the error...\", end=\" \")\n",
<<<<<<< HEAD
    "    errorLen = 100\n",
    "    mse = sum( np.square( nw.data[(nw.trainLen+1)%len(nw.data):(nw.trainLen+errorLen+1)%len(nw.data)] - nw.Y[0,0:errorLen] ) ) / errorLen\n",
=======
    "    errorLen = 55\n",
    "    mse = sum( np.square( nw.data[(nw.trainLen+1):(nw.trainLen+errorLen+1)] - nw.Y[0,0:errorLen] ) ) / errorLen\n",
>>>>>>> 8ab1945db73fd82514b3dbb5585f593b51c82589
    "    print('MSE = ' + str( mse ))\n",
    "    return(nw)"
   ]
  },
  {
   "cell_type": "markdown",
   "metadata": {},
   "source": [
    "When the output is ready, it's only characters IDs. The next function will \"translate\" those ID into the corresponding characters."
   ]
  },
  {
   "cell_type": "code",
<<<<<<< HEAD
   "execution_count": 37,
=======
   "execution_count": 50,
>>>>>>> 8ab1945db73fd82514b3dbb5585f593b51c82589
   "metadata": {},
   "outputs": [],
   "source": [
    "def convert_output(nw) :\n",
    "    nw.output_text = \"\"\n",
    "    print(\"Converting the output...\", end=\" \")\n",
    "    for i in range(len(nw.Y.T)) :\n",
    "        nw.output_text += nw.output_units[nw.Y.T[i].argmax()]\n",
    "    print(\"done.\")\n",
    "    return(nw.output_text)\n",
    "    \n",
    "def progression(percent, i, total) :\n",
    "    if i == 0 :\n",
    "        print(\"Progress :\", end= \" \")\n",
    "        percent = 0.1\n",
    "    elif (i/total) > percent :\n",
    "        print(round(percent*100), end=\"\")\n",
    "        print(\"%\", end=\" \")\n",
    "        percent += 0.1\n",
    "    if total-i == 1 :\n",
    "        print(\"100%\")\n",
    "    return(percent)\n",
    "\n",
    "def compute_network(nw) :\n",
    "    nw = filter_characters(nw)\n",
    "    nw = characters(nw)\n",
    "    nw = convert_input(nw)\n",
    "    nw = binary_data(nw)\n",
    "    nw = initialization(nw)\n",
    "    nw = compute_spectral_radius(nw)\n",
    "    nw = train_network(nw)\n",
    "    nw = train_output(nw)\n",
    "    nw = test(nw) \n",
    "    nw = compute_error(nw)\n",
    "    nw = convert_output(nw)\n",
    "    return(nw)"
   ]
  },
  {
   "cell_type": "markdown",
   "metadata": {},
   "source": [
    "## Configure network"
   ]
  },
  {
   "cell_type": "markdown",
   "metadata": {},
   "source": [
    "Let's configure the network's variables you want to use."
   ]
  },
  {
   "cell_type": "code",
<<<<<<< HEAD
   "execution_count": 38,
=======
   "execution_count": 51,
>>>>>>> 8ab1945db73fd82514b3dbb5585f593b51c82589
   "metadata": {
    "scrolled": false
   },
   "outputs": [
    {
     "name": "stdout",
     "output_type": "stream",
     "text": [
      "InitLen: 20 TrainLen: 1000 TestLen: 1000\n",
      "ResSize: 300 Spectral Radius: 1.25 Leak Rate: 0.3\n",
      "\n",
      "Existing notes in the midi file : ['36', '40', '41', '42', '43', '44', '45', '46', '47', '48', '49', '50', '51', '52', '53', '54', '55', '56', '57', '58', '59', '60', '61', '62', '63', '64', '65', '66', '67', '68', '69', '70', '71', '72', '73', '74', '76', '77', '78', '79', '81', '82', '83', '84'] \n",
      "Number of different notes : 44 \n",
      "\n",
      "Converting input into ID numbers... done.\n",
      "Creating the input binary matrix... done.\n",
      "\n",
      "\n",
<<<<<<< HEAD
      "Initializing the network matrices... 1923683023\n",
      "Seed used for random values: 1923683023\n",
=======
      "Initializing the network matrices... 1351088715\n",
      "Seed used for random values: 1351088715\n",
>>>>>>> 8ab1945db73fd82514b3dbb5585f593b51c82589
      "done.\n",
      "Computing spectral radius... done.\n",
      "Training the network... Progress : 10% 20% 30% 40% 50% 60% 70% 80% 90% 100%\n",
      "done.\n",
<<<<<<< HEAD
      "Training the output... done.\n",
      "Testing the network... (prediction mode) Progress : 10% 20% 30% 40% 50% 60% 70% 80% 100%\n",
      "90% 100% 110% 120% 130% 140% 150% 160% 170% 180% done.\n",
      "\n",
      "Computing the error... MSE = 583.8\n",
      "Converting the output... done.\n"
=======
      "Training the output... (44, 23)\n",
      "(980, 345)\n",
      "(345, 980)\n"
     ]
    },
    {
     "ename": "ValueError",
     "evalue": "shapes (44,23) and (980,345) not aligned: 23 (dim 1) != 980 (dim 0)",
     "output_type": "error",
     "traceback": [
      "\u001b[1;31m---------------------------------------------------------------------------\u001b[0m",
      "\u001b[1;31mValueError\u001b[0m                                Traceback (most recent call last)",
      "\u001b[1;32m<ipython-input-51-f1d3962c26e8>\u001b[0m in \u001b[0;36mrecord_values\u001b[1;34m(_)\u001b[0m\n\u001b[0;32m     25\u001b[0m     \u001b[0mprint\u001b[0m\u001b[1;33m(\u001b[0m\u001b[1;34m\"ResSize:\"\u001b[0m\u001b[1;33m,\u001b[0m \u001b[0mnw\u001b[0m\u001b[1;33m.\u001b[0m\u001b[0mresSize\u001b[0m\u001b[1;33m,\u001b[0m \u001b[1;34m\"Spectral Radius:\"\u001b[0m\u001b[1;33m,\u001b[0m \u001b[0mnw\u001b[0m\u001b[1;33m.\u001b[0m\u001b[0mspectral_radius\u001b[0m\u001b[1;33m,\u001b[0m \u001b[1;34m\"Leak Rate:\"\u001b[0m\u001b[1;33m,\u001b[0m \u001b[0mnw\u001b[0m\u001b[1;33m.\u001b[0m\u001b[0ma\u001b[0m\u001b[1;33m)\u001b[0m\u001b[1;33m\u001b[0m\u001b[0m\n\u001b[0;32m     26\u001b[0m \u001b[1;33m\u001b[0m\u001b[0m\n\u001b[1;32m---> 27\u001b[1;33m     \u001b[0mcompute_network\u001b[0m\u001b[1;33m(\u001b[0m\u001b[0mnw\u001b[0m\u001b[1;33m)\u001b[0m\u001b[1;33m\u001b[0m\u001b[0m\n\u001b[0m\u001b[0;32m     28\u001b[0m     \u001b[1;32mreturn\u001b[0m\u001b[1;33m(\u001b[0m\u001b[0mnw\u001b[0m\u001b[1;33m.\u001b[0m\u001b[0moutput_text\u001b[0m\u001b[1;33m)\u001b[0m\u001b[1;33m\u001b[0m\u001b[0m\n\u001b[0;32m     29\u001b[0m \u001b[1;33m\u001b[0m\u001b[0m\n",
      "\u001b[1;32m<ipython-input-50-7a86fb250e26>\u001b[0m in \u001b[0;36mcompute_network\u001b[1;34m(nw)\u001b[0m\n\u001b[0;32m     27\u001b[0m     \u001b[0mnw\u001b[0m \u001b[1;33m=\u001b[0m \u001b[0mcompute_spectral_radius\u001b[0m\u001b[1;33m(\u001b[0m\u001b[0mnw\u001b[0m\u001b[1;33m)\u001b[0m\u001b[1;33m\u001b[0m\u001b[0m\n\u001b[0;32m     28\u001b[0m     \u001b[0mnw\u001b[0m \u001b[1;33m=\u001b[0m \u001b[0mtrain_network\u001b[0m\u001b[1;33m(\u001b[0m\u001b[0mnw\u001b[0m\u001b[1;33m)\u001b[0m\u001b[1;33m\u001b[0m\u001b[0m\n\u001b[1;32m---> 29\u001b[1;33m     \u001b[0mnw\u001b[0m \u001b[1;33m=\u001b[0m \u001b[0mtrain_output\u001b[0m\u001b[1;33m(\u001b[0m\u001b[0mnw\u001b[0m\u001b[1;33m)\u001b[0m\u001b[1;33m\u001b[0m\u001b[0m\n\u001b[0m\u001b[0;32m     30\u001b[0m     \u001b[0mnw\u001b[0m \u001b[1;33m=\u001b[0m \u001b[0mtest\u001b[0m\u001b[1;33m(\u001b[0m\u001b[0mnw\u001b[0m\u001b[1;33m)\u001b[0m\u001b[1;33m\u001b[0m\u001b[0m\n\u001b[0;32m     31\u001b[0m     \u001b[0mnw\u001b[0m \u001b[1;33m=\u001b[0m \u001b[0mcompute_error\u001b[0m\u001b[1;33m(\u001b[0m\u001b[0mnw\u001b[0m\u001b[1;33m)\u001b[0m\u001b[1;33m\u001b[0m\u001b[0m\n",
      "\u001b[1;32m<ipython-input-49-87c0c5612890>\u001b[0m in \u001b[0;36mtrain_output\u001b[1;34m(nw)\u001b[0m\n\u001b[0;32m     36\u001b[0m     \u001b[0mprint\u001b[0m\u001b[1;33m(\u001b[0m\u001b[0mnw\u001b[0m\u001b[1;33m.\u001b[0m\u001b[0mX\u001b[0m\u001b[1;33m.\u001b[0m\u001b[0mshape\u001b[0m\u001b[1;33m)\u001b[0m\u001b[1;33m\u001b[0m\u001b[0m\n\u001b[0;32m     37\u001b[0m     \u001b[1;32mif\u001b[0m \u001b[0mnw\u001b[0m\u001b[1;33m.\u001b[0m\u001b[0mreg\u001b[0m \u001b[1;32mis\u001b[0m \u001b[1;32mnot\u001b[0m \u001b[1;32mNone\u001b[0m\u001b[1;33m:\u001b[0m\u001b[1;33m\u001b[0m\u001b[0m\n\u001b[1;32m---> 38\u001b[1;33m         \u001b[0mnw\u001b[0m\u001b[1;33m.\u001b[0m\u001b[0mWout\u001b[0m \u001b[1;33m=\u001b[0m \u001b[0mnp\u001b[0m\u001b[1;33m.\u001b[0m\u001b[0mdot\u001b[0m\u001b[1;33m(\u001b[0m\u001b[0mnp\u001b[0m\u001b[1;33m.\u001b[0m\u001b[0mdot\u001b[0m\u001b[1;33m(\u001b[0m\u001b[0mnw\u001b[0m\u001b[1;33m.\u001b[0m\u001b[0mYtarget\u001b[0m\u001b[1;33m,\u001b[0m\u001b[0mnw\u001b[0m\u001b[1;33m.\u001b[0m\u001b[0mX_T\u001b[0m\u001b[1;33m)\u001b[0m\u001b[1;33m,\u001b[0m \u001b[0mlinalg\u001b[0m\u001b[1;33m.\u001b[0m\u001b[0minv\u001b[0m\u001b[1;33m(\u001b[0m\u001b[0mnp\u001b[0m\u001b[1;33m.\u001b[0m\u001b[0mdot\u001b[0m\u001b[1;33m(\u001b[0m\u001b[0mnw\u001b[0m\u001b[1;33m.\u001b[0m\u001b[0mX\u001b[0m\u001b[1;33m,\u001b[0m\u001b[0mnw\u001b[0m\u001b[1;33m.\u001b[0m\u001b[0mX_T\u001b[0m\u001b[1;33m)\u001b[0m \u001b[1;33m+\u001b[0m \u001b[0mnw\u001b[0m\u001b[1;33m.\u001b[0m\u001b[0mreg\u001b[0m\u001b[1;33m*\u001b[0m\u001b[0mnp\u001b[0m\u001b[1;33m.\u001b[0m\u001b[0meye\u001b[0m\u001b[1;33m(\u001b[0m\u001b[1;36m1\u001b[0m\u001b[1;33m+\u001b[0m\u001b[0mnw\u001b[0m\u001b[1;33m.\u001b[0m\u001b[0minSize\u001b[0m\u001b[1;33m+\u001b[0m\u001b[0mnw\u001b[0m\u001b[1;33m.\u001b[0m\u001b[0mresSize\u001b[0m\u001b[1;33m)\u001b[0m \u001b[1;33m)\u001b[0m \u001b[1;33m)\u001b[0m\u001b[1;33m\u001b[0m\u001b[0m\n\u001b[0m\u001b[0;32m     39\u001b[0m     \u001b[1;32melse\u001b[0m\u001b[1;33m:\u001b[0m\u001b[1;33m\u001b[0m\u001b[0m\n\u001b[0;32m     40\u001b[0m         \u001b[0mnw\u001b[0m\u001b[1;33m.\u001b[0m\u001b[0mWout\u001b[0m \u001b[1;33m=\u001b[0m \u001b[0mnp\u001b[0m\u001b[1;33m.\u001b[0m\u001b[0mdot\u001b[0m\u001b[1;33m(\u001b[0m\u001b[0mnw\u001b[0m\u001b[1;33m.\u001b[0m\u001b[0mYtarget\u001b[0m\u001b[1;33m,\u001b[0m \u001b[0mlinalg\u001b[0m\u001b[1;33m.\u001b[0m\u001b[0mpinv\u001b[0m\u001b[1;33m(\u001b[0m\u001b[0mnw\u001b[0m\u001b[1;33m.\u001b[0m\u001b[0mX\u001b[0m\u001b[1;33m)\u001b[0m \u001b[1;33m)\u001b[0m\u001b[1;33m\u001b[0m\u001b[0m\n",
      "\u001b[1;31mValueError\u001b[0m: shapes (44,23) and (980,345) not aligned: 23 (dim 1) != 980 (dim 0)"
>>>>>>> 8ab1945db73fd82514b3dbb5585f593b51c82589
     ]
    }
   ],
   "source": [
    "select_mode = ToggleButtons(description='Mode:', options=['prediction', 'generative'])\n",
    "text = Dropdown(description='Fichier Midi:', options={\"House of the rising sun\" : 1}, value = 1)\n",
<<<<<<< HEAD
    "var4 = FloatSlider(value=100, min=0, max=5000, step=1, description='resSize')\n",
    "var5 = FloatText(value=200, description='initLen')\n",
    "var6 = FloatText(value=2000, description='trainLen')\n",
    "var7 = FloatText(value=300, description='testLen')\n",
=======
    "var4 = FloatSlider(value=300, min=0, max=5000, step=1, description='resSize')\n",
    "var5 = FloatText(value=20, description='initLen')\n",
    "var6 = FloatText(value=1000, description='trainLen')\n",
    "var7 = FloatText(value=1000, description='testLen')\n",
>>>>>>> 8ab1945db73fd82514b3dbb5585f593b51c82589
    "var8 = FloatSlider(value=1.25, min=0, max=10, step=0.05, description='spectral radius')\n",
    "var9 = FloatSlider(value=0.3, min=0, max=1, step=0.01, description='leak rate')\n",
    "valid = Button(description='Validate')\n",
    "\n",
    "def record_values(_):\n",
    "    clear_output()\n",
    "    nw.mode=select_mode.value\n",
    "    file = text.value\n",
    "    texts = [\"extrait_bach.txt\"]\n",
    "    nw.file = open(texts[file-1], \"r\").read()\n",
    "    nw.resSize=int(var4.value)\n",
    "    nw.initLen=int(var5.value)\n",
    "    nw.trainLen=int(var6.value)\n",
    "    nw.testLen=int(var7.value)\n",
    "    nw.spectral_radius=float(var8.value)\n",
    "    nw.a=float(var9.value)\n",
    "    \n",
    "    print(\"InitLen:\", nw.initLen, \"TrainLen:\", nw.trainLen, \"TestLen:\", nw.testLen) \n",
    "    print(\"ResSize:\", nw.resSize, \"Spectral Radius:\", nw.spectral_radius, \"Leak Rate:\", nw.a)\n",
    "    \n",
    "    compute_network(nw)\n",
    "    return(nw.output_text)\n",
    "\n",
    "display(select_mode)\n",
    "display(text)\n",
    "display(var4)\n",
    "display(var5)\n",
    "display(var6)\n",
    "display(var7)\n",
    "display(var8)\n",
    "display(var9)\n",
    "display(valid)\n",
    "\n",
    "output_text = valid.on_click(record_values)"
   ]
  },
  {
   "cell_type": "markdown",
   "metadata": {},
   "source": [
    "The next graph shows the characters repartition throughout the first characters of the text. The x-axis represents the first n characters of the text (which you can change), and the y-axis represents every different character in the text (generally ~70, counting upper case, lower case, numbers and punctuation symbols).."
   ]
  },
  {
   "cell_type": "code",
<<<<<<< HEAD
   "execution_count": 39,
=======
   "execution_count": 48,
>>>>>>> 8ab1945db73fd82514b3dbb5585f593b51c82589
   "metadata": {},
   "outputs": [
    {
     "data": {
<<<<<<< HEAD
      "image/png": "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\n",
=======
      "application/vnd.jupyter.widget-view+json": {
       "model_id": "08d72218c24e44de8c2a60e0e0130c23",
       "version_major": 2,
       "version_minor": 0
      },
      "text/plain": [
       "FloatText(value=44.0, description='Number of chars')"
      ]
     },
     "metadata": {},
     "output_type": "display_data"
    },
    {
     "data": {
      "application/vnd.jupyter.widget-view+json": {
       "model_id": "10cc1497e917483fa04d312be03172d5",
       "version_major": 2,
       "version_minor": 0
      },
>>>>>>> 8ab1945db73fd82514b3dbb5585f593b51c82589
      "text/plain": [
       "Button(description='Validate', style=ButtonStyle())"
      ]
     },
     "metadata": {
      "needs_background": "light"
     },
     "output_type": "display_data"
    }
   ],
   "source": [
    "var10 = FloatText(value=len(nw.input_units), description='Number of chars')\n",
    "#La value de var10 ne peut pas dépasser le nombre de notes présentes dans le fichier midi  \n",
    "valid2 = Button(description='Validate')\n",
    "        \n",
    "def trace_graph1(_) :\n",
    "    clear_output()\n",
    "    plt.figure(1).clear()\n",
    "    limit = np.arange(int(var10.value))\n",
    "    plt.plot(limit,nw.data[0:int(var10.value)], 'ro')\n",
    "    plt.title('Characters throughout the text')\n",
    "    \n",
    "valid2.on_click(trace_graph1)\n",
    "    \n",
    "display(var10)\n",
    "display(valid2)"
   ]
  },
  {
   "cell_type": "markdown",
   "metadata": {},
   "source": [
    "Finally, let's see the ouput text the program generates !"
   ]
  },
  {
   "cell_type": "code",
<<<<<<< HEAD
   "execution_count": 40,
=======
   "execution_count": 17,
>>>>>>> 8ab1945db73fd82514b3dbb5585f593b51c82589
   "metadata": {},
   "outputs": [
    {
     "data": {
      "application/vnd.jupyter.widget-view+json": {
<<<<<<< HEAD
       "model_id": "901c5f51ecb44f478ded635e4bef9b83",
=======
       "model_id": "28f37db0a3e54100bda9a83e0841d517",
>>>>>>> 8ab1945db73fd82514b3dbb5585f593b51c82589
       "version_major": 2,
       "version_minor": 0
      },
      "text/plain": [
       "Button(description='Show the output!', style=ButtonStyle())"
      ]
     },
     "metadata": {},
     "output_type": "display_data"
    },
    {
     "name": "stdout",
     "output_type": "stream",
     "text": [
<<<<<<< HEAD
      "4545454545454545454545454545454545454545\n"
=======
      "6464646464646464646464646464646464646464\n"
>>>>>>> 8ab1945db73fd82514b3dbb5585f593b51c82589
     ]
    }
   ],
   "source": [
    "valid3 = Button(description='Show the output!')\n",
    "\n",
    "def show_output(_) :\n",
    "    print(nw.output_text)\n",
    "\n",
    "display(valid3)\n",
    "valid3.on_click(show_output)"
   ]
  }
 ],
 "metadata": {
  "anaconda-cloud": {},
  "kernelspec": {
   "display_name": "Python 3",
   "language": "python",
   "name": "python3"
  },
  "language_info": {
   "codemirror_mode": {
    "name": "ipython",
    "version": 3
   },
   "file_extension": ".py",
   "mimetype": "text/x-python",
   "name": "python",
   "nbconvert_exporter": "python",
   "pygments_lexer": "ipython3",
   "version": "3.7.0"
  },
  "widgets": {
   "state": {
    "0ea51c9a05684957ac7f780c650d07e9": {
     "views": [
      {
       "cell_index": 17
      }
     ]
    },
    "16f6b2e73bef48adba31033aee697b92": {
     "views": [
      {
       "cell_index": 17
      }
     ]
    },
    "19f94908ee5b4d66aeb0b2321ee60652": {
     "views": [
      {
       "cell_index": 21
      }
     ]
    },
    "1cee34a4f52a443cb8cf00c41ed2fe61": {
     "views": [
      {
       "cell_index": 17
      }
     ]
    },
    "240726984cad4432a5758e2015d9497c": {
     "views": [
      {
       "cell_index": 19
      }
     ]
    },
    "72d0158cdf274e9d8ebcb3ced4e76bb8": {
     "views": [
      {
       "cell_index": 17
      }
     ]
    },
    "761a81f2ad56428d80ee079bb6bcf13b": {
     "views": [
      {
       "cell_index": 17
      }
     ]
    },
    "955d7d67993341e680ca5bece5476594": {
     "views": [
      {
       "cell_index": 17
      }
     ]
    },
    "bee880b8ee1e4c8995a3695f750dc110": {
     "views": [
      {
       "cell_index": 17
      }
     ]
    },
    "ca5e51e7c20947788b29d473c7667ee7": {
     "views": [
      {
       "cell_index": 17
      }
     ]
    },
    "db3de75861a746a1a4ff54cbbcec2032": {
     "views": [
      {
       "cell_index": 17
      }
     ]
    },
    "e28405f3723544f89fb2df38e93570d4": {
     "views": [
      {
       "cell_index": 17
      }
     ]
    },
    "e461378265f94837b632b09a19fb687e": {
     "views": [
      {
       "cell_index": 19
      }
     ]
    },
    "ebfe9300e4b149a09e788c48d8b7b3ac": {
     "views": [
      {
       "cell_index": 17
      }
     ]
    },
    "eee484961585441c9a7796e2c230758d": {
     "views": [
      {
       "cell_index": 17
      }
     ]
    }
   },
   "version": "1.2.0"
  }
 },
 "nbformat": 4,
 "nbformat_minor": 1
}
