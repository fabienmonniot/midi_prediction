{
 "cells": [
  {
   "cell_type": "markdown",
   "metadata": {},
   "source": [
    "# (MIDI) Prédiction et génération de fichier midi"
   ]
  },
  {
   "cell_type": "markdown",
   "metadata": {},
   "source": [
    "Lien du sujet : https://github.com/neuronalX/Reservoir-Jupyter\n",
    "Apprendre le reservoir computing : https://github.com/neuronalX/Reservoir-Jupyter\n",
    "Code d'exemple reservoir computing : https://github.com/neuronalX/FunkyReservoir"
   ]
  },
  {
   "cell_type": "markdown",
   "metadata": {},
   "source": [
    "Import des modules"
   ]
  },
  {
   "cell_type": "code",
   "execution_count": 1,
   "metadata": {},
   "outputs": [],
   "source": [
    "%matplotlib inline\n",
    "import numpy as np\n",
    "import matplotlib.pyplot as plt\n",
    "from scipy import linalg\n",
    "from ipywidgets import *\n",
    "from IPython.display import *"
   ]
  },
  {
   "cell_type": "markdown",
   "metadata": {},
   "source": [
    "Classe pour générer le réseau :"
   ]
  },
  {
   "cell_type": "code",
   "execution_count": 6,
   "metadata": {},
   "outputs": [
    {
     "name": "stdout",
     "output_type": "stream",
     "text": [
      "Seed used for random values: 166609793\n"
     ]
    }
   ],
   "source": [
    "class Network(object):\n",
    "\n",
    "    def __init__(self, trainLen=2000, testLen=2000, initLen=100, data=\"MackeyGlass_t17.txt\") :\n",
    "        self.initLen = initLen\n",
    "        self.trainLen = trainLen\n",
    "        self.testLen = testLen\n",
    "        self.data = np.loadtxt(data)\n",
    "        self.inSize = self.outSize = 1 #Dimension de l'entrée et de la sortie\n",
    "        self.resSize = 300 #Taille du réservoir (prédiction)\n",
    "        #self.resSize = 1000 #Taille du réservoir (géneration)\n",
    "        self.a = 0.3 #Taux de fuite alpha \n",
    "        self.spectral_radius = 1.25 #Rayon spectral\n",
    "        self.input_scaling = 1. #Echelle de l'input\n",
    "        self.reg =  1e-8 #None #Coefficient de régularisation - si None,\n",
    "        #on utilisera le pseudo-inverse plutôt que la régression de crête\n",
    "\n",
    "        self.mode = 'prediction'\n",
    "        #self.mode = 'generative'\n",
    "\n",
    "        #Modification de la première valeur pseudo-aléatoire : les performances du réservoir\n",
    "        #devraient être dans la moyenne après 20 instances aléatoires (pour les mêmes paramètres)\n",
    "        seed = self.set_seed()\n",
    "        \n",
    "        #Poids\n",
    "        self.Win = (np.random.rand(self.resSize,1+self.inSize)-0.5) * self.input_scaling\n",
    "        self.W = np.random.rand(self.resSize,self.resSize)-0.5 \n",
    "\n",
    "        #Matrices\n",
    "        #Matrice des états collectés (1,u,x) au cours du temps\n",
    "        self.X = np.zeros((1+self.inSize+self.resSize,self.trainLen-self.initLen))\n",
    "        #Matrice de sortie cible\n",
    "        self.Ytarget = self.data[None,self.initLen+1:self.trainLen+1]\n",
    "\n",
    "        #Vecteur des états du réservoir\n",
    "        self.x = np.zeros((self.resSize,1))  \n",
    "        \n",
    "    def set_seed(self):\n",
    "        \"\"\"Making the seed (for random values) variable if None\"\"\"\n",
    "\n",
    "        if seed is None:\n",
    "            import time\n",
    "            seed = int((time.time()*10**6) % 4294967295)\n",
    "        try:\n",
    "            np.random.seed(seed)\n",
    "            print(\"Seed used for random values:\", seed)\n",
    "        except:\n",
    "            print(\"!!! WARNING !!!: Seed was not set correctly.\")\n",
    "        return seed\n",
    "\n",
    "nw = Network(trainLen=2000, testLen=2000, initLen=100, data=\"MackeyGlass_t17.txt\")"
   ]
  },
  {
   "cell_type": "markdown",
   "metadata": {},
   "source": [
    "Récupération des données"
   ]
  },
  {
   "cell_type": "code",
   "execution_count": null,
   "metadata": {},
   "outputs": [],
   "source": []
  }
 ],
 "metadata": {
  "kernelspec": {
   "display_name": "Python 3",
   "language": "python",
   "name": "python3"
  },
  "language_info": {
   "codemirror_mode": {
    "name": "ipython",
    "version": 3
   },
   "file_extension": ".py",
   "mimetype": "text/x-python",
   "name": "python",
   "nbconvert_exporter": "python",
   "pygments_lexer": "ipython3",
   "version": "3.4.5"
  }
 },
 "nbformat": 4,
 "nbformat_minor": 2
}
