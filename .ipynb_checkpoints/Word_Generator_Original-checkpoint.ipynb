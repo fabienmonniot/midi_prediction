{
 "cells": [
  {
   "cell_type": "markdown",
   "metadata": {
    "collapsed": true
   },
   "source": [
    "# Word Generator"
   ]
  },
  {
   "cell_type": "markdown",
   "metadata": {},
   "source": [
    "This program will use Mantas Lukoševičius' ESN to try to generate new words, from an input text. While the main program is explained in the \"Minimal ESN - EN\" notebook, we will here focus on the added parts that will help achieving this task."
   ]
  },
  {
   "cell_type": "code",
   "execution_count": 1,
   "metadata": {},
   "outputs": [
    {
     "name": "stdout",
     "output_type": "stream",
     "text": [
      "1313238024\n",
      "Seed used for random values: 1313238024\n"
     ]
    }
   ],
   "source": [
    "%matplotlib inline\n",
    "import numpy as np\n",
    "import matplotlib.pyplot as plt\n",
    "from scipy import linalg\n",
    "from ipywidgets import *\n",
    "from IPython.display import *\n",
    "\n",
    "def set_seed(seed=None):\n",
    "    \"\"\"Making the seed (for random values) variable if None\"\"\"\n",
    "\n",
    "    if seed is None:\n",
    "        import time\n",
    "        seed = int((time.time()*10**6) % 4294967295)\n",
    "        print(seed)\n",
    "    try:\n",
    "        np.random.seed(seed)\n",
    "        print(\"Seed used for random values:\", seed)\n",
    "    except:\n",
    "        print(\"!!! WARNING !!!: Seed was not set correctly.\")\n",
    "    return seed\n",
    "\n",
    "class Network(object):\n",
    "\n",
    "    def __init__(self, trainLen=2000, testLen=2000, initLen=100) :\n",
    "        self.initLen = initLen\n",
    "        self.trainLen = trainLen\n",
    "        self.testLen = testLen\n",
    "        self.file = open(\"text/Shakespeare.txt\", \"r\").read()\n",
    "        self.resSize = 300\n",
    "        self.a = 0.3\n",
    "        self.spectral_radius = 1.25\n",
    "        self.input_scaling = 1.\n",
    "        self.reg =  1e-8\n",
    "        self.mode = 'prediction'\n",
    "        seed = None #42\n",
    "        set_seed(seed)\n",
    "        \n",
    "nw = Network()"
   ]
  },
  {
   "cell_type": "markdown",
   "metadata": {},
   "source": [
    "The next function analyzes a text (e.g., Sir Arthur Conan Doyle's Sherlock Holmes), and returns a list containing all the different characters that are present in the text. You can choose between taking case, punctuation and/or numbers into account."
   ]
  },
  {
   "cell_type": "code",
   "execution_count": 2,
   "metadata": {},
   "outputs": [],
   "source": [
    "def filter_characters(nw, keep_upper=True, keep_punctuation=True, keep_numbers=True) :\n",
    "\n",
    "    alphabet = list(\"abcdefghijklmnopqrstuvwxyzABCDEFGHIJKLMNOPQRSTUVWXYZ0123456789 \")\n",
    "    numbers = list(\"0123456789\")\n",
    "\n",
    "    if keep_upper == False : nw.file = nw.file.lower()\n",
    "    nw.input_text = list(nw.file)\n",
    "\n",
    "    if keep_punctuation == False :\n",
    "        nw.input_text = [i for i in nw.input_text if i in alphabet]     \n",
    "\n",
    "    if keep_numbers == False :\n",
    "        nw.input_text = [i for i in nw.input_text if i not in numbers]\n",
    "    \n",
    "    return(nw)"
   ]
  },
  {
   "cell_type": "markdown",
   "metadata": {},
   "source": [
    "Let's see what characters are in the chosen input text."
   ]
  },
  {
   "cell_type": "code",
   "execution_count": 3,
   "metadata": {
    "collapsed": true
   },
   "outputs": [],
   "source": [
    "def characters(nw) :\n",
    "    nw.input_units, nw.output_units = dict(), dict()\n",
    "    for i, item in enumerate(set(nw.input_text)) : nw.input_units[item] = i\n",
    "    for i, item in enumerate(set(nw.input_text)) : nw.output_units[i] = item\n",
    "    #nw.input_units = dict(enumerate(set(nw.input_text)))\n",
    "    print(\"\\nExisting characters in the text :\", sorted(nw.input_units),\n",
    "          \"\\nNumber of different characters :\", len(nw.input_units), \"\\n\")\n",
    "    return(nw)"
   ]
  },
  {
   "cell_type": "markdown",
   "metadata": {},
   "source": [
    "We will then convert the text values into numerical values, usable by the algorithm. We will consider the input as a vector $u(t)$, where each line matches a different character, according to <b>nw.chars</b>. Since there only can be one character at a time, we will convert the text from nw.input_text into a nw.data vector, where each element will be a character ID according to its position in nw.chars."
   ]
  },
  {
   "cell_type": "code",
   "execution_count": 4,
   "metadata": {},
   "outputs": [],
   "source": [
    "def convert_input(nw) :\n",
    "    print(\"Converting input into ID numbers...\", end=\" \")\n",
    "    nw.data = np.array([nw.input_units[i] for i in nw.input_text])\n",
    "    nw.inSize = nw.outSize = len(nw.input_units)\n",
    "    print(\"done.\")\n",
    "    return(nw)"
   ]
  },
  {
   "cell_type": "markdown",
   "metadata": {},
   "source": [
    "Now, we can try this on our network. The input $u$ will now be a vector, matching the size of nw.chars. Every time the program \"reads\" a character, we will give the corresponding neuron a value of 1. In any other case, this value will be 0."
   ]
  },
  {
   "cell_type": "code",
   "execution_count": 5,
   "metadata": {
    "collapsed": true
   },
   "outputs": [],
   "source": [
    "def binary_data(nw) :\n",
    "    print(\"Creating the input binary matrix...\", end=\" \")\n",
    "    nw.data_b = np.zeros((len(nw.input_text), len(nw.input_units)))\n",
    "    for i, item in enumerate(nw.data) :\n",
    "        nw.data_b[i][item] = 1\n",
    "    print(\"done.\\n\") \n",
    "    return(nw)"
   ]
  },
  {
   "cell_type": "markdown",
   "metadata": {},
   "source": [
    "Then, we copy the code from the ESN."
   ]
  },
  {
   "cell_type": "code",
   "execution_count": 6,
   "metadata": {},
   "outputs": [],
   "source": [
    "def initialization(nw) :\n",
    "    print(\"\\nInitializing the network matrices...\", end=\" \")\n",
    "    set_seed()\n",
    "    nw.Win = (np.random.rand(nw.resSize,1+nw.inSize)-0.5) * nw.input_scaling\n",
    "    nw.W = np.random.rand(nw.resSize,nw.resSize)-0.5 \n",
    "    nw.X = np.zeros((1+nw.inSize+nw.resSize,nw.trainLen-nw.initLen))\n",
    "    nw.Ytarget = nw.data_b[nw.initLen+1:nw.trainLen+1].T\n",
    "    nw.x = np.zeros((nw.resSize,1))\n",
    "    print(\"done.\")\n",
    "    return(nw)\n",
    "\n",
    "def compute_spectral_radius(nw):\n",
    "    print('Computing spectral radius...',end=\" \")\n",
    "    rhoW = max(abs(linalg.eig(nw.W)[0]))\n",
    "    print('done.')\n",
    "    nw.W *= nw.spectral_radius / rhoW\n",
    "    return(nw)\n",
    "\n",
    "def train_network(nw) :\n",
    "    print('Training the network...', end=\" \")\n",
    "    percent = 0.1\n",
    "    for t in range(nw.trainLen):\n",
    "        percent = progression(percent, t, nw.trainLen)\n",
    "        nw.u = nw.data_b[t%len(nw.data)]\n",
    "        nw.x = (1-nw.a)*nw.x + nw.a*np.tanh( np.dot(nw.Win, np.concatenate((np.array([1]),nw.u)).reshape(len(nw.input_units)+1,1) ) + np.dot( nw.W, nw.x ) )\n",
    "        if t >= nw.initLen :\n",
    "            nw.X[:,t-nw.initLen] = np.concatenate((np.array([1]),nw.u,nw.x[:,0])).reshape(len(nw.input_units)+nw.resSize+1,1)[:,0]      \n",
    "    print('done.')\n",
    "    return(nw)\n",
    "\n",
    "def train_output(nw) :\n",
    "    print('Training the output...', end=\" \")\n",
    "    nw.X_T = nw.X.T\n",
    "    if nw.reg is not None:\n",
    "        nw.Wout = np.dot(np.dot(nw.Ytarget,nw.X_T), linalg.inv(np.dot(nw.X,nw.X_T) + \\\n",
    "            nw.reg*np.eye(1+nw.inSize+nw.resSize) ) )\n",
    "    else:\n",
    "        nw.Wout = np.dot(nw.Ytarget, linalg.pinv(nw.X) )   \n",
    "    print('done.')\n",
    "    return(nw)\n",
    "\n",
    "def test(nw) :\n",
    "    print('Testing the network... (', nw.mode, ' mode)', sep=\"\", end=\" \")\n",
    "    nw.Y = np.zeros((nw.outSize,nw.testLen))\n",
    "    nw.u = nw.data_b[nw.trainLen%len(nw.data)]\n",
    "    percent = 0.1\n",
    "    for t in range(nw.testLen):\n",
    "        percent = progression(percent, t, nw.trainLen)\n",
    "        nw.x = (1-nw.a)*nw.x + nw.a*np.tanh( np.dot(nw.Win, np.concatenate((np.array([1]),nw.u)).reshape(len(nw.input_units)+1,1)\\\n",
    "                                                   ) + np.dot(nw.W,nw.x ) )\n",
    "        nw.y = np.dot(nw.Wout, np.concatenate((np.array([1]),nw.u,nw.x[:,0])).reshape(len(nw.input_units)+nw.resSize+1,1)[:,0] )\n",
    "        nw.Y[:,t] = nw.y\n",
    "        if nw.mode == 'generative':\n",
    "            # generative mode:\n",
    "            nw.u = nw.y\n",
    "        elif nw.mode == 'prediction':\n",
    "            ## predictive mode:\n",
    "            nw.u = np.zeros(len(nw.input_units))\n",
    "            nw.u[nw.data[(nw.trainLen+t+1)%len(nw.data)]] = 1\n",
    "        else:\n",
    "            raise(Exception, \"ERROR: 'mode' was not set correctly.\")\n",
    "    print('done.\\n')\n",
    "    return(nw)\n",
    "\n",
    "def compute_error(nw) :\n",
    "    print(\"Computing the error...\", end=\" \")\n",
    "    errorLen = 500\n",
    "    mse = sum( np.square( nw.data[(nw.trainLen+1)%len(nw.data):(nw.trainLen+errorLen+1)%len(nw.data)] - nw.Y[0,0:errorLen] ) ) / errorLen\n",
    "    print('MSE = ' + str( mse ))\n",
    "    return(nw)"
   ]
  },
  {
   "cell_type": "markdown",
   "metadata": {},
   "source": [
    "When the output is ready, it's only characters IDs. The next function will \"translate\" those ID into the corresponding characters."
   ]
  },
  {
   "cell_type": "code",
   "execution_count": 7,
   "metadata": {
    "collapsed": true
   },
   "outputs": [],
   "source": [
    "def convert_output(nw) :\n",
    "    nw.output_text = \"\"\n",
    "    print(\"Converting the output...\", end=\" \")\n",
    "    for i in range(len(nw.Y.T)) :\n",
    "        nw.output_text += nw.output_units[nw.Y.T[i].argmax()]\n",
    "    print(\"done.\")\n",
    "    return(nw.output_text)\n",
    "    \n",
    "def progression(percent, i, total) :\n",
    "    if i == 0 :\n",
    "        print(\"Progress :\", end= \" \")\n",
    "        percent = 0.1\n",
    "    elif (i/total) > percent :\n",
    "        print(round(percent*100), end=\"\")\n",
    "        print(\"%\", end=\" \")\n",
    "        percent += 0.1\n",
    "    if total-i == 1 :\n",
    "        print(\"100%\")\n",
    "    return(percent)\n",
    "\n",
    "def compute_network(nw, a, b, c) :\n",
    "    nw = filter_characters(nw, a, b, c)\n",
    "    nw = characters(nw)\n",
    "    nw = convert_input(nw)\n",
    "    nw = binary_data(nw)\n",
    "    nw = initialization(nw)\n",
    "    nw = compute_spectral_radius(nw)\n",
    "    nw = train_network(nw)\n",
    "    nw = train_output(nw)\n",
    "    nw = test(nw) \n",
    "    nw = compute_error(nw)\n",
    "    nw = convert_output(nw)\n",
    "    return(nw)"
   ]
  },
  {
   "cell_type": "markdown",
   "metadata": {},
   "source": [
    "## Configure network"
   ]
  },
  {
   "cell_type": "markdown",
   "metadata": {},
   "source": [
    "Let's configure the network's variables you want to use."
   ]
  },
  {
   "cell_type": "code",
   "execution_count": 8,
   "metadata": {},
   "outputs": [
    {
     "name": "stdout",
     "output_type": "stream",
     "text": [
      "InitLen: 1000 TrainLen: 10000 TestLen: 2000\n",
      "ResSize: 300 Spectral Radius: 1.25 Leak Rate: 0.3\n",
      "\n",
      "Existing characters in the text : ['\\n', ' ', '!', '\"', '&', \"'\", '(', ')', '*', ',', '-', '.', '0', '1', '2', '3', '4', '5', '6', '7', '9', ':', ';', '?', 'A', 'B', 'C', 'D', 'E', 'F', 'G', 'H', 'I', 'J', 'K', 'L', 'M', 'N', 'O', 'P', 'Q', 'R', 'S', 'T', 'U', 'V', 'W', 'X', 'Y', 'Z', '\\\\', '_', '`', 'a', 'b', 'c', 'd', 'e', 'f', 'g', 'h', 'i', 'j', 'k', 'l', 'm', 'n', 'o', 'p', 'q', 'r', 's', 't', 'u', 'v', 'w', 'x', 'y', 'z'] \n",
      "Number of different characters : 79 \n",
      "\n",
      "Converting input into ID numbers... done.\n",
      "Creating the input binary matrix... done.\n",
      "\n",
      "\n",
      "Initializing the network matrices... 1330767751\n",
      "Seed used for random values: 1330767751\n",
      "done.\n",
      "Computing spectral radius... done.\n",
      "Training the network... Progress : 10% 20% 30% 40% 50% 60% 70% 80% 90% 100%\n",
      "done.\n",
      "Training the output... done.\n",
      "Testing the network... (prediction mode) Progress : 10% done.\n",
      "\n",
      "Computing the error... MSE = 1868.79967745\n",
      "Converting the output... done.\n"
     ]
    }
   ],
   "source": [
    "select_mode = ToggleButtons(description='Mode:', options=['prediction', 'generative'])\n",
    "text = Dropdown(description='Text:', options={\"Shakespeare (4 573 338 chars.)\" : 1, \"Sherlock Holmes (3 868 223 chars)\" : 2,\n",
    "                                                   \"Harry Potter and the Sorcerer's Stone (439 743 chars.)\" : 3,\n",
    "                                                   \"Harry Potter and the Prisoner of Azkaban (611 584 chars.)\" : 4}, value = 4)\n",
    "var1 = Checkbox(description='Keep upper case letters?',value=True,)\n",
    "var2 = Checkbox(description='Keep punctuation?',value=True,)\n",
    "var3 = Checkbox(description='Keep numbers?',value=True,)\n",
    "var4 = FloatSlider(value=300, min=0, max=5000, step=1, description='resSize')\n",
    "var5 = FloatText(value=1000, description='initLen')\n",
    "var6 = FloatText(value=10000, description='trainLen')\n",
    "var7 = FloatText(value=2000, description='testLen')\n",
    "var8 = FloatSlider(value=1.25, min=0, max=10, step=0.05, description='spectral radius')\n",
    "var9 = FloatSlider(value=0.3, min=0, max=1, step=0.01, description='leak rate')\n",
    "valid = Button(description='Validate')\n",
    "\n",
    "def record_values(_):\n",
    "    clear_output()\n",
    "    nw.mode=select_mode.value\n",
    "    file = text.value\n",
    "    texts = [\"Shakespeare.txt\", \"SherlockHolmes.txt\", \"HarryPotter1.txt\", \"HarryPotter3.txt\"]\n",
    "    nw.file = open(\"text/\"+texts[file-1], \"r\").read()\n",
    "    nw.resSize=int(var4.value)\n",
    "    nw.initLen=int(var5.value)\n",
    "    nw.trainLen=int(var6.value)\n",
    "    nw.testLen=int(var7.value)\n",
    "    nw.spectral_radius=float(var8.value)\n",
    "    nw.a=float(var9.value)\n",
    "    \n",
    "    print(\"InitLen:\", nw.initLen, \"TrainLen:\", nw.trainLen, \"TestLen:\", nw.testLen) \n",
    "    print(\"ResSize:\", nw.resSize, \"Spectral Radius:\", nw.spectral_radius, \"Leak Rate:\", nw.a)\n",
    "    \n",
    "    compute_network(nw, var1.value, var2.value, var3.value)\n",
    "    return(nw.output_text)\n",
    "\n",
    "display(select_mode)\n",
    "display(text)\n",
    "display(var1)\n",
    "display(var2)\n",
    "display(var3)\n",
    "display(var4)\n",
    "display(var5)\n",
    "display(var6)\n",
    "display(var7)\n",
    "display(var8)\n",
    "display(var9)\n",
    "display(valid)\n",
    "\n",
    "output_text = valid.on_click(record_values)"
   ]
  },
  {
   "cell_type": "markdown",
   "metadata": {},
   "source": [
    "The next graph shows the characters repartition throughout the first characters of the text. The x-axis represents the first n characters of the text (which you can change), and the y-axis represents every different character in the text (generally ~70, counting upper case, lower case, numbers and punctuation symbols).."
   ]
  },
  {
   "cell_type": "code",
   "execution_count": 9,
   "metadata": {},
   "outputs": [
    {
     "data": {
      "image/png": "[encoded data removed]",
      "text/plain": [
       "<matplotlib.figure.Figure at 0x109e112e8>"
      ]
     },
     "metadata": {},
     "output_type": "display_data"
    }
   ],
   "source": [
    "var10 = FloatText(value=1000, description='Number of chars')\n",
    "valid2 = Button(description='Validate')\n",
    "        \n",
    "def trace_graph1(_) :\n",
    "    clear_output()\n",
    "    plt.figure(1).clear()\n",
    "    limit = np.arange(int(var10.value))\n",
    "    plt.plot(limit,nw.data[0:int(var10.value)], 'ro')\n",
    "    plt.title('Characters throughout the text')\n",
    "    \n",
    "valid2.on_click(trace_graph1)\n",
    "    \n",
    "display(var10)\n",
    "display(valid2)"
   ]
  },
  {
   "cell_type": "markdown",
   "metadata": {},
   "source": [
    "Finally, let's see the ouput text the program generates !"
   ]
  },
  {
   "cell_type": "code",
   "execution_count": 10,
   "metadata": {},
   "outputs": [
    {
     "name": "stdout",
     "output_type": "stream",
     "text": [
      " ahe  au   tnennd hoiooes oeyo  whn  nn  the sersa a and the  tar ynn siieme huhar anhs bae   \n",
      "Reeeehfeddd tn  tee ty oa   ahnertntorreertin   n thetd   tnd te  n th hhsaettne nar    \n",
      "Harry ahned  tetk thothe he esndng tnae  Hn  tn the   ahe sasee tto e a r rl  aar tes ona tar an  \n",
      " e  ah   aar aar y ng antareesetnd toot   i phed  d deddd d tanhete    eo\n",
      "\n",
      " e woreraarry wrdtr  rihnn    to  ththe e  oeat on te to oner te  tese nt ahe  torrisshen  hhe tom  ah tottgtRaooe \n",
      "harry h n  s  e au onadrhe rhes  onae antedd  ne thr   hn   aeshte seo  sshtn a aaa   tnhhe  taue toe   aedaus  tn tn  n nn th hnhhes  oerr r    n oos tar e ng tnto hooeoedr ng the sarrart  taea h \n",
      "ee  tarry seaender taen eneett tnh heti n  anhhen  e  anh horr e   hn enehr  e  ahhe hhe  rnh aas    and th   nn  the  s eshe sis    tn   the ton e  \n",
      "Harry a r t naotf tes ted tnd teeteed nniymes herken   aeneed tn  the  eonastersde and o n   e    anteeatdtoooos  d tn th    tnd tes sone  yner aet he y tare  \n",
      "or     theaoeeng t en e e  aa ane    hhe i  errre  \n",
      "herten h  an tarednaoaaytft t-  sse  h  and trto   oridntaeneeng  \n",
      "\n",
      "he taeneeng te  tae t y aane ans tn the sisard n  te i  rirt ahe wurnl aeonee   ae ars  the terneedtngthe oeotke-nd - e    ana n  aa   toaen   \n",
      "arry henaed tnethe taeneeng  a eu  e  inhhnt  ard toan  hhu       UU rE  SHOOueE?OURL OO    aEnnulrOS  aaRnheseeeir e   warr rn the tug n  tn tugghe tn  n rr  ia  th dnhhhe tusgt  e an turhnh aa  hardthe hrddsr turnl aetnea  aaard tronaddasiydndturra \n",
      "een  en e   tu  \n",
      "eil ed hhne the turnl wetnee   a\n",
      "enwane hectoer  n  the \n",
      "ene tn tnhhteo  ta  s r angtRa    aae   ann o o    oon  aut   tane  on rrtase  aeean dntorehaing r  eeenard ng tut   \n",
      "\n",
      "Hhe  eir ed dorine aane aecaoero n  trteu  etngtaa e  ae hne n  t rethe sehre tn hhe hiristhe  et  r tn harrarrh  waes  a nerwn ahe serr ed aaese eyttasee   e adh     \n",
      "Harry hharddd the serer  tee    erre hnd hrhhen t aoas snlem  hes sorl an te ttretre tong dn the serr ed  aaser  t rennn e anhhes  w  r  n  t\n"
     ]
    }
   ],
   "source": [
    "valid3 = Button(description='Show the output!')\n",
    "\n",
    "def show_output(_) :\n",
    "    print(nw.output_text)\n",
    "\n",
    "display(valid3)\n",
    "valid3.on_click(show_output)"
   ]
  },
  {
   "cell_type": "code",
   "execution_count": null,
   "metadata": {
    "collapsed": true
   },
   "outputs": [],
   "source": []
  }
 ],
 "metadata": {
  "anaconda-cloud": {},
  "kernelspec": {
   "display_name": "Python 3",
   "language": "python",
   "name": "python3"
  },
  "language_info": {
   "codemirror_mode": {
    "name": "ipython",
    "version": 3
   },
   "file_extension": ".py",
   "mimetype": "text/x-python",
   "name": "python",
   "nbconvert_exporter": "python",
   "pygments_lexer": "ipython3",
   "version": "3.7.0"
  },
  "widgets": {
   "state": {
    "0ea51c9a05684957ac7f780c650d07e9": {
     "views": [
      {
       "cell_index": 17
      }
     ]
    },
    "16f6b2e73bef48adba31033aee697b92": {
     "views": [
      {
       "cell_index": 17
      }
     ]
    },
    "19f94908ee5b4d66aeb0b2321ee60652": {
     "views": [
      {
       "cell_index": 21
      }
     ]
    },
    "1cee34a4f52a443cb8cf00c41ed2fe61": {
     "views": [
      {
       "cell_index": 17
      }
     ]
    },
    "240726984cad4432a5758e2015d9497c": {
     "views": [
      {
       "cell_index": 19
      }
     ]
    },
    "72d0158cdf274e9d8ebcb3ced4e76bb8": {
     "views": [
      {
       "cell_index": 17
      }
     ]
    },
    "761a81f2ad56428d80ee079bb6bcf13b": {
     "views": [
      {
       "cell_index": 17
      }
     ]
    },
    "955d7d67993341e680ca5bece5476594": {
     "views": [
      {
       "cell_index": 17
      }
     ]
    },
    "bee880b8ee1e4c8995a3695f750dc110": {
     "views": [
      {
       "cell_index": 17
      }
     ]
    },
    "ca5e51e7c20947788b29d473c7667ee7": {
     "views": [
      {
       "cell_index": 17
      }
     ]
    },
    "db3de75861a746a1a4ff54cbbcec2032": {
     "views": [
      {
       "cell_index": 17
      }
     ]
    },
    "e28405f3723544f89fb2df38e93570d4": {
     "views": [
      {
       "cell_index": 17
      }
     ]
    },
    "e461378265f94837b632b09a19fb687e": {
     "views": [
      {
       "cell_index": 19
      }
     ]
    },
    "ebfe9300e4b149a09e788c48d8b7b3ac": {
     "views": [
      {
       "cell_index": 17
      }
     ]
    },
    "eee484961585441c9a7796e2c230758d": {
     "views": [
      {
       "cell_index": 17
      }
     ]
    }
   },
   "version": "1.2.0"
  }
 },
 "nbformat": 4,
 "nbformat_minor": 1
}
