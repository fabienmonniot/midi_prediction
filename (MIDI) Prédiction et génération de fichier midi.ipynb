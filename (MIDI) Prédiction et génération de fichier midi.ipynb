{
 "cells": [
  {
   "cell_type": "markdown",
   "metadata": {},
   "source": [
    "# (MIDI) Prédiction et génération de fichier midi"
   ]
  },
  {
   "cell_type": "markdown",
   "metadata": {},
   "source": [
    "Lien du sujet : https://github.com/neuronalX/Reservoir-Jupyter\n",
    "Apprendre le reservoir computing : https://github.com/neuronalX/Reservoir-Jupyter\n",
    "Code d'exemple reservoir computing : https://github.com/neuronalX/FunkyReservoir"
   ]
  },
  {
   "cell_type": "markdown",
   "metadata": {},
   "source": [
    "Import des modules"
   ]
  },
  {
   "cell_type": "code",
   "execution_count": 1,
   "metadata": {},
   "outputs": [],
   "source": [
    "%matplotlib inline\n",
    "import numpy as np\n",
    "import matplotlib.pyplot as plt\n",
    "from scipy import linalg\n",
    "from ipywidgets import *\n",
    "from IPython.display import *"
   ]
  },
  {
   "cell_type": "markdown",
   "metadata": {},
   "source": [
    "Classe pour générer le réseau :"
   ]
  },
  {
   "cell_type": "code",
   "execution_count": 6,
   "metadata": {},
   "outputs": [
    {
     "name": "stdout",
     "output_type": "stream",
     "text": [
      "Seed used for random values: 166609793\n"
     ]
    }
   ],
   "source": [
    "class Network(object):\n",
    "\n",
    "    def __init__(self, trainLen=2000, testLen=2000, initLen=100, data=\"MackeyGlass_t17.txt\") :\n",
    "        self.initLen = initLen\n",
    "        self.trainLen = trainLen\n",
    "        self.testLen = testLen\n",
    "        self.data = np.loadtxt(data)\n",
    "        self.inSize = self.outSize = 1 #Dimension de l'entrée et de la sortie\n",
    "        self.resSize = 300 #Taille du réservoir (prédiction)\n",
    "        #self.resSize = 1000 #Taille du réservoir (géneration)\n",
    "        self.a = 0.3 #Taux de fuite alpha \n",
    "        self.spectral_radius = 1.25 #Rayon spectral\n",
    "        self.input_scaling = 1. #Echelle de l'input\n",
    "        self.reg =  1e-8 #None #Coefficient de régularisation - si None,\n",
    "        #on utilisera le pseudo-inverse plutôt que la régression de crête\n",
    "\n",
    "        self.mode = 'prediction'\n",
    "        #self.mode = 'generative'\n",
    "\n",
    "        #Modification de la première valeur pseudo-aléatoire : les performances du réservoir\n",
    "        #devraient être dans la moyenne après 20 instances aléatoires (pour les mêmes paramètres)\n",
    "        seed = self.set_seed()\n",
    "        \n",
    "        #Poids\n",
    "        self.Win = (np.random.rand(self.resSize,1+self.inSize)-0.5) * self.input_scaling\n",
    "        self.W = np.random.rand(self.resSize,self.resSize)-0.5 \n",
    "\n",
    "        #Matrices\n",
    "        #Matrice des états collectés (1,u,x) au cours du temps\n",
    "        self.X = np.zeros((1+self.inSize+self.resSize,self.trainLen-self.initLen))\n",
    "        #Matrice de sortie cible\n",
    "        self.Ytarget = self.data[None,self.initLen+1:self.trainLen+1]\n",
    "\n",
    "        #Vecteur des états du réservoir\n",
    "        self.x = np.zeros((self.resSize,1))  \n",
    "        \n",
    "    def set_seed(self):\n",
    "        \"\"\"Making the seed (for random values) variable if None\"\"\"\n",
    "\n",
    "        if seed is None:\n",
    "            import time\n",
    "            seed = int((time.time()*10**6) % 4294967295)\n",
    "        try:\n",
    "            np.random.seed(seed)\n",
    "            print(\"Seed used for random values:\", seed)\n",
    "        except:\n",
    "            print(\"!!! WARNING !!!: Seed was not set correctly.\")\n",
    "        return seed\n",
    "\n",
    "nw = Network(trainLen=2000, testLen=2000, initLen=100, data=\"MackeyGlass_t17.txt\")"
   ]
  },
  {
   "cell_type": "markdown",
   "metadata": {},
   "source": [
    "Récupération des données"
   ]
  },
  {
   "cell_type": "code",
   "execution_count": 3,
   "metadata": {
    "scrolled": false
   },
   "outputs": [
    {
     "name": "stdout",
     "output_type": "stream",
     "text": [
      "Chargement du fichier MIDI...\n",
      "Chargement du fichier MIDI terminé\n"
     ]
    }
   ],
   "source": [
    "import mido\n",
    "\n",
    "print(\"Chargement du fichier MIDI...\")\n",
    "\n",
    "mid = mido.MidiFile('samples/house_of_the_rising_sunasax_as.mid')\n",
    "\n",
    "print(\"Chargement du fichier MIDI terminé\")"
   ]
  },
  {
   "cell_type": "markdown",
   "metadata": {},
   "source": [
    "Extraction des données importantes"
   ]
  },
  {
   "cell_type": "code",
   "execution_count": 13,
   "metadata": {},
   "outputs": [
    {
     "name": "stdout",
     "output_type": "stream",
     "text": [
      "noteON : 55, time : 6.3888825, velocity : 56 , channel : 1\n",
      "-- noteOFF : 55, time : 0.2777775, velocity : 0 , channel : 1\n",
      "noteON : 60, time : 0, velocity : 71 , channel : 1\n",
      "-- noteOFF : 60, time : 1.11111, velocity : 0 , channel : 1\n",
      "noteON : 60, time : 0, velocity : 58 , channel : 1\n",
      "noteON : 62, time : 0.2777775, velocity : 65 , channel : 1\n",
      "-- noteOFF : 60, time : 0.0043402734375, velocity : 0 , channel : 1\n",
      "-- noteOFF : 62, time : 0.25824626953125, velocity : 0 , channel : 1\n",
      "noteON : 63, time : 0.01519095703125, velocity : 64 , channel : 1\n",
      "-- noteOFF : 63, time : 1.11111, velocity : 0 , channel : 1\n",
      "noteON : 63, time : 0, velocity : 61 , channel : 1\n",
      "noteON : 65, time : 0.2777775, velocity : 65 , channel : 1\n",
      "-- noteOFF : 63, time : 0.0043402734375, velocity : 0 , channel : 1\n",
      "-- noteOFF : 65, time : 0.25824626953125, velocity : 0 , channel : 1\n",
      "noteON : 67, time : 0.01519095703125, velocity : 61 , channel : 1\n",
      "-- noteOFF : 67, time : 0.8333325, velocity : 0 , channel : 1\n",
      "noteON : 65, time : 0, velocity : 59 , channel : 1\n",
      "noteON : 63, time : 0.555555, velocity : 56 , channel : 1\n",
      "-- noteOFF : 65, time : 0.01085068359375, velocity : 0 , channel : 1\n",
      "-- noteOFF : 63, time : 0.251735859375, velocity : 0 , channel : 1\n",
      "noteON : 63, time : 0.01519095703125, velocity : 59 , channel : 1\n",
      "noteON : 60, time : 0.2777775, velocity : 52 , channel : 1\n",
      "-- noteOFF : 63, time : 0.0043402734375, velocity : 0 , channel : 1\n",
      "-- noteOFF : 60, time : 1.050346171875, velocity : 0 , channel : 1\n",
      "noteON : 72, time : 0.0564235546875, velocity : 77 , channel : 1\n",
      "-- noteOFF : 72, time : 0.2777775, velocity : 0 , channel : 1\n",
      "noteON : 72, time : 0, velocity : 62 , channel : 1\n",
      "-- noteOFF : 72, time : 0.8333325, velocity : 0 , channel : 1\n",
      "noteON : 72, time : 0, velocity : 63 , channel : 1\n",
      "-- noteOFF : 72, time : 0.555555, velocity : 0 , channel : 1\n",
      "noteON : 72, time : 0, velocity : 59 , channel : 1\n",
      "-- noteOFF : 72, time : 0.2777775, velocity : 0 , channel : 1\n",
      "noteON : 70, time : 0, velocity : 61 , channel : 1\n",
      "-- noteOFF : 70, time : 1.3888875, velocity : 0 , channel : 1\n",
      "noteON : 72, time : 0, velocity : 64 , channel : 1\n",
      "-- noteOFF : 72, time : 0.2777775, velocity : 0 , channel : 1\n",
      "noteON : 67, time : 0, velocity : 56 , channel : 1\n",
      "-- noteOFF : 67, time : 2.4999975, velocity : 0 , channel : 1\n",
      "noteON : 72, time : 0, velocity : 70 , channel : 1\n",
      "-- noteOFF : 72, time : 0.555555, velocity : 0 , channel : 1\n",
      "noteON : 72, time : 0, velocity : 65 , channel : 1\n",
      "-- noteOFF : 72, time : 0.2777775, velocity : 0 , channel : 1\n",
      "noteON : 72, time : 0, velocity : 60 , channel : 1\n",
      "-- noteOFF : 72, time : 1.3888875, velocity : 0 , channel : 1\n",
      "noteON : 60, time : 0, velocity : 44 , channel : 1\n",
      "-- noteOFF : 60, time : 0.2777775, velocity : 0 , channel : 1\n",
      "noteON : 63, time : 0, velocity : 64 , channel : 1\n",
      "-- noteOFF : 63, time : 0.2777775, velocity : 0 , channel : 1\n",
      "noteON : 63, time : 0, velocity : 61 , channel : 1\n",
      "-- noteOFF : 63, time : 1.11111, velocity : 0 , channel : 1\n",
      "noteON : 65, time : 0, velocity : 65 , channel : 1\n",
      "-- noteOFF : 65, time : 0.2777775, velocity : 0 , channel : 1\n",
      "noteON : 67, time : 0, velocity : 63 , channel : 1\n",
      "-- noteOFF : 67, time : 0.2777775, velocity : 0 , channel : 1\n",
      "noteON : 67, time : 0, velocity : 58 , channel : 1\n",
      "-- noteOFF : 67, time : 0.555555, velocity : 0 , channel : 1\n",
      "noteON : 65, time : 0, velocity : 61 , channel : 1\n",
      "-- noteOFF : 65, time : 0.555555, velocity : 0 , channel : 1\n",
      "noteON : 63, time : 0, velocity : 57 , channel : 1\n",
      "-- noteOFF : 63, time : 0.2777775, velocity : 0 , channel : 1\n",
      "noteON : 63, time : 0, velocity : 58 , channel : 1\n",
      "noteON : 60, time : 0.2777775, velocity : 56 , channel : 1\n",
      "-- noteOFF : 63, time : 0.0043402734375, velocity : 0 , channel : 1\n",
      "-- noteOFF : 60, time : 0.7855894921875001, velocity : 0 , channel : 1\n",
      "noteON : 67, time : 0.321180234375, velocity : 56 , channel : 1\n",
      "-- noteOFF : 67, time : 0.2777775, velocity : 0 , channel : 1\n",
      "noteON : 67, time : 0, velocity : 60 , channel : 1\n",
      "noteON : 65, time : 0.2777775, velocity : 56 , channel : 1\n",
      "-- noteOFF : 67, time : 0.0043402734375, velocity : 0 , channel : 1\n",
      "-- noteOFF : 65, time : 0.7855894921875001, velocity : 0 , channel : 1\n",
      "noteON : 63, time : 0.043402734375, velocity : 55 , channel : 1\n",
      "-- noteOFF : 63, time : 0.555555, velocity : 0 , channel : 1\n",
      "noteON : 60, time : 0, velocity : 52 , channel : 1\n",
      "noteON : 55, time : 0.2777775, velocity : 50 , channel : 1\n",
      "-- noteOFF : 60, time : 0.0043402734375, velocity : 0 , channel : 1\n",
      "-- noteOFF : 55, time : 0.7855894921875001, velocity : 0 , channel : 1\n",
      "noteON : 55, time : 0.043402734375, velocity : 62 , channel : 1\n",
      "-- noteOFF : 55, time : 0.2777775, velocity : 0 , channel : 1\n",
      "noteON : 58, time : 0, velocity : 63 , channel : 1\n",
      "-- noteOFF : 58, time : 0.2777775, velocity : 0 , channel : 1\n",
      "noteON : 60, time : 0, velocity : 66 , channel : 1\n",
      "-- noteOFF : 60, time : 2.4999975, velocity : 0 , channel : 1\n",
      "noteON : 67, time : 4.1666625, velocity : 77 , channel : 1\n",
      "noteON : 70, time : 2.08333125, velocity : 83 , channel : 1\n",
      "-- noteOFF : 67, time : 0.04123259765625, velocity : 0 , channel : 1\n",
      "-- noteOFF : 70, time : 0.35373228515625, velocity : 0 , channel : 1\n",
      "noteON : 67, time : 0.0217013671875, velocity : 78 , channel : 1\n",
      "noteON : 65, time : 0.41666625, velocity : 65 , channel : 1\n",
      "-- noteOFF : 67, time : 0.00651041015625, velocity : 0 , channel : 1\n",
      "-- noteOFF : 65, time : 0.38845447265625, velocity : 0 , channel : 1\n",
      "noteON : 67, time : 0.0217013671875, velocity : 90 , channel : 1\n",
      "-- noteOFF : 67, time : 0.8333325, velocity : 0 , channel : 1\n",
      "noteON : 72, time : 0, velocity : 101 , channel : 1\n",
      "noteON : 68, time : 1.24999875, velocity : 89 , channel : 1\n",
      "-- noteOFF : 72, time : 0.02387150390625, velocity : 0 , channel : 1\n"
     ]
    }
   ],
   "source": [
    "notes = []\n",
    "i = 0\n",
    "sumTime = 0\n",
    "\n",
    "for msg in mid.play():\n",
    "    sumTime += msg.time\n",
    "    \n",
    "    if(msg.type == \"note_on\"):\n",
    "        notes.append((msg.note, sumTime))\n",
    "        \n",
    "    elif(msg.type == \"note_off\"):\n",
    "        j = len(notes) - 1\n",
    "        while(j >= 0):\n",
    "            note, time = notes[j]\n",
    "            if(note == msg.note):\n",
    "                notes[j] = (note, sumTime - time)\n",
    "                break\n",
    "            j -= 1\n",
    "        \n",
    "    \n",
    "    \n",
    "    \n",
    "    \n",
    "    if(msg.type == \"note_on\"):\n",
    "        print(\"noteON : \" + str(msg.note) + \", time : \" + str(msg.time) + \", velocity : \" + str(msg.velocity), \", channel : \" + str(msg.channel))\n",
    "    elif(msg.type == \"note_off\"):\n",
    "        print(\"-- noteOFF : \" + str(msg.note) + \", time : \" + str(msg.time) + \", velocity : \" + str(msg.velocity), \", channel : \" + str(msg.channel))\n",
    "    \n",
    "    \n",
    "    if(i >= 100):\n",
    "        break\n",
    "    \n",
    "    i += 1"
   ]
  },
  {
   "cell_type": "markdown",
   "metadata": {},
   "source": [
    "Affichage des notes enregistrées"
   ]
  },
  {
   "cell_type": "code",
   "execution_count": 12,
   "metadata": {},
   "outputs": [
    {
     "name": "stdout",
     "output_type": "stream",
     "text": [
      "Note 55 pendant 0.2777775 secondes\n",
      "Note 60 pendant 1.11111 secondes\n",
      "Note 60 pendant 0.28211777343749844 secondes\n",
      "Note 62 pendant 0.2625865429687497 secondes\n",
      "Note 63 pendant 1.11111 secondes\n",
      "Note 63 pendant 0.28211777343749844 secondes\n",
      "Note 65 pendant 0.2625865429687497 secondes\n",
      "Note 67 pendant 9.999989999999997 secondes\n"
     ]
    }
   ],
   "source": [
    "for note in notes:\n",
    "    print(\"Note \" + str(note[0]) + \" pendant \" + str(note[1]) + \" secondes\")"
   ]
  },
  {
   "cell_type": "markdown",
   "metadata": {},
   "source": [
    "Création du fichier MIDI de sortie"
   ]
  },
  {
   "cell_type": "code",
   "execution_count": 24,
   "metadata": {},
   "outputs": [],
   "source": [
    "from mido import Message, MidiFile, MidiTrack\n",
    "\n",
    "mid = MidiFile()\n",
    "track = MidiTrack()\n",
    "mid.tracks.append(track)\n",
    "\n",
    "for note in notes:\n",
    "    track.append(Message('note_on', note=note[0], time=0))\n",
    "    track.append(Message('note_off', note=note[0], time=int(note[1]*500)))\n",
    "\n",
    "mid.save('new_song.mid')"
   ]
  },
  {
   "cell_type": "code",
   "execution_count": null,
   "metadata": {},
   "outputs": [],
   "source": []
  }
 ],
 "metadata": {
  "kernelspec": {
   "display_name": "Python 3",
   "language": "python",
   "name": "python3"
  },
  "language_info": {
   "codemirror_mode": {
    "name": "ipython",
    "version": 3
   },
   "file_extension": ".py",
   "mimetype": "text/x-python",
   "name": "python",
   "nbconvert_exporter": "python",
   "pygments_lexer": "ipython3",
   "version": "3.7.0"
  }
 },
 "nbformat": 4,
 "nbformat_minor": 2
}
